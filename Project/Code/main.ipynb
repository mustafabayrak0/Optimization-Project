{
 "cells": [
  {
   "cell_type": "markdown",
   "metadata": {},
   "source": [
    "# <strong>YZV 202E - OPTIMIZATION FOR DATA SCIENCE PROJECT</strong>\n",
    "# Importance of Optimization Techniques in Post-Earthquake Relief"
   ]
  },
  {
   "cell_type": "markdown",
   "metadata": {},
   "source": [
    "## Team: Iron-Flag\n",
    "## Team Members: Mustafa Bayrak, Zehra Demir"
   ]
  },
  {
   "cell_type": "markdown",
   "metadata": {},
   "source": [
    "Install necessary packages"
   ]
  },
  {
   "cell_type": "code",
   "execution_count": 82,
   "metadata": {},
   "outputs": [
    {
     "name": "stdout",
     "output_type": "stream",
     "text": [
      "Requirement already satisfied: basemap in c:\\users\\hp\\anaconda3\\lib\\site-packages (1.3.5)\n",
      "Requirement already satisfied: basemap-data<1.4,>=1.3.2 in c:\\users\\hp\\anaconda3\\lib\\site-packages (from basemap) (1.3.2)\n",
      "Note: you may need to restart the kernel to use updated packages.Requirement already satisfied: pyshp<2.4,>=1.2 in c:\\users\\hp\\anaconda3\\lib\\site-packages (from basemap) (2.3.1)\n",
      "\n",
      "Requirement already satisfied: matplotlib<3.6,>=1.5 in c:\\users\\hp\\anaconda3\\lib\\site-packages (from basemap) (3.5.1)\n"
     ]
    },
    {
     "name": "stderr",
     "output_type": "stream",
     "text": [
      "WARNING: Ignoring invalid distribution -ensorflow-intel (c:\\users\\hp\\anaconda3\\lib\\site-packages)\n",
      "WARNING: Ignoring invalid distribution -ensorflow-intel (c:\\users\\hp\\anaconda3\\lib\\site-packages)\n"
     ]
    },
    {
     "name": "stdout",
     "output_type": "stream",
     "text": [
      "Requirement already satisfied: pyproj<3.4.0,>=1.9.3 in c:\\users\\hp\\anaconda3\\lib\\site-packages (from basemap) (3.3.1)\n",
      "Requirement already satisfied: numpy<1.24,>=1.22 in c:\\users\\hp\\anaconda3\\lib\\site-packages (from basemap) (1.22.4)\n",
      "Requirement already satisfied: cycler>=0.10 in c:\\users\\hp\\anaconda3\\lib\\site-packages (from matplotlib<3.6,>=1.5->basemap) (0.11.0)\n",
      "Requirement already satisfied: fonttools>=4.22.0 in c:\\users\\hp\\anaconda3\\lib\\site-packages (from matplotlib<3.6,>=1.5->basemap) (4.25.0)\n",
      "Requirement already satisfied: kiwisolver>=1.0.1 in c:\\users\\hp\\anaconda3\\lib\\site-packages (from matplotlib<3.6,>=1.5->basemap) (1.3.2)\n",
      "Requirement already satisfied: packaging>=20.0 in c:\\users\\hp\\anaconda3\\lib\\site-packages (from matplotlib<3.6,>=1.5->basemap) (21.3)\n",
      "Requirement already satisfied: pillow>=6.2.0 in c:\\users\\hp\\anaconda3\\lib\\site-packages (from matplotlib<3.6,>=1.5->basemap) (9.0.1)\n",
      "Requirement already satisfied: pyparsing>=2.2.1 in c:\\users\\hp\\anaconda3\\lib\\site-packages (from matplotlib<3.6,>=1.5->basemap) (3.0.4)\n",
      "Requirement already satisfied: python-dateutil>=2.7 in c:\\users\\hp\\anaconda3\\lib\\site-packages (from matplotlib<3.6,>=1.5->basemap) (2.8.2)\n",
      "Requirement already satisfied: certifi in c:\\users\\hp\\anaconda3\\lib\\site-packages (from pyproj<3.4.0,>=1.9.3->basemap) (2022.9.24)\n",
      "Requirement already satisfied: six>=1.5 in c:\\users\\hp\\anaconda3\\lib\\site-packages (from python-dateutil>=2.7->matplotlib<3.6,>=1.5->basemap) (1.16.0)\n"
     ]
    }
   ],
   "source": [
    "pip install basemap"
   ]
  },
  {
   "cell_type": "code",
   "execution_count": null,
   "metadata": {},
   "outputs": [],
   "source": [
    "pip install geopy"
   ]
  },
  {
   "cell_type": "markdown",
   "metadata": {},
   "source": [
    "### Importing the necessary libraries"
   ]
  },
  {
   "cell_type": "code",
   "execution_count": null,
   "metadata": {},
   "outputs": [],
   "source": [
    "import pandas as pd\n",
    "import numpy as np\n",
    "from mpl_toolkits.basemap import Basemap\n",
    "import matplotlib.pyplot as plt\n",
    "import random\n",
    "from geopy.geocoders import Nominatim\n",
    "random.seed(1773)"
   ]
  },
  {
   "cell_type": "markdown",
   "metadata": {},
   "source": [
    "### Reading the Excel file that contains populations and information of whether they are affected city or distribution city"
   ]
  },
  {
   "cell_type": "code",
   "execution_count": null,
   "metadata": {},
   "outputs": [],
   "source": [
    "df = pd.read_excel(\"../Datasets/excel/cities.xlsx\")"
   ]
  },
  {
   "cell_type": "markdown",
   "metadata": {},
   "source": [
    "### First 15 cities in the dataframe (descending order)"
   ]
  },
  {
   "cell_type": "code",
   "execution_count": null,
   "metadata": {},
   "outputs": [],
   "source": [
    "df.head(15)"
   ]
  },
  {
   "cell_type": "markdown",
   "metadata": {},
   "source": [
    "### Load Arrays of distribution centers and affected cities"
   ]
  },
  {
   "cell_type": "code",
   "execution_count": null,
   "metadata": {},
   "outputs": [],
   "source": [
    "dist_centers = np.load('../Datasets/numpy-arrays/dist_cities.npy')\n",
    "affected_cities = np.load('../Datasets/numpy-arrays/affected_cities.npy')"
   ]
  },
  {
   "cell_type": "markdown",
   "metadata": {},
   "source": [
    "### Names of distribution centers"
   ]
  },
  {
   "cell_type": "code",
   "execution_count": null,
   "metadata": {},
   "outputs": [],
   "source": [
    "dist_centers"
   ]
  },
  {
   "cell_type": "markdown",
   "metadata": {},
   "source": [
    "### Names of the affected cities"
   ]
  },
  {
   "cell_type": "code",
   "execution_count": null,
   "metadata": {},
   "outputs": [],
   "source": [
    "affected_cities"
   ]
  },
  {
   "cell_type": "markdown",
   "metadata": {},
   "source": [
    "### Creating the distances matrix"
   ]
  },
  {
   "cell_type": "code",
   "execution_count": null,
   "metadata": {},
   "outputs": [],
   "source": [
    "distances = pd.read_excel(\"../Datasets/excel/ilmesafe.xlsx\")"
   ]
  },
  {
   "cell_type": "code",
   "execution_count": null,
   "metadata": {},
   "outputs": [],
   "source": [
    "distances"
   ]
  },
  {
   "cell_type": "markdown",
   "metadata": {},
   "source": [
    "Create a new dataframe containing distribution cities in rows"
   ]
  },
  {
   "cell_type": "code",
   "execution_count": null,
   "metadata": {},
   "outputs": [],
   "source": [
    "new_df = pd.DataFrame(columns=distances.columns)\n",
    "\n",
    "# Iterate over each row in the original dataframe\n",
    "for index, row in distances.iterrows():\n",
    "    if row['Name'] in dist_centers:\n",
    "        # Append the row to the new dataframe\n",
    "        new_df = pd.concat([new_df, row.to_frame().T])\n",
    "\n",
    "# Reset the index of the new dataframe\n",
    "new_df.reset_index(drop=True, inplace=True)"
   ]
  },
  {
   "cell_type": "markdown",
   "metadata": {},
   "source": [
    "### Distances between distribution centers to each affected city"
   ]
  },
  {
   "cell_type": "code",
   "execution_count": null,
   "metadata": {},
   "outputs": [],
   "source": [
    "distance_df = new_df[affected_cities]"
   ]
  },
  {
   "cell_type": "code",
   "execution_count": null,
   "metadata": {},
   "outputs": [],
   "source": [
    "distance_df"
   ]
  },
  {
   "cell_type": "code",
   "execution_count": null,
   "metadata": {},
   "outputs": [],
   "source": [
    "distance_matrix = np.array(distance_df)"
   ]
  },
  {
   "cell_type": "code",
   "execution_count": null,
   "metadata": {},
   "outputs": [],
   "source": [
    "# Geocoding setup\n",
    "geolocator = Nominatim(user_agent=\"my-app\")\n",
    "\n",
    "# Map setup\n",
    "map = Basemap(llcrnrlon=26, llcrnrlat=35, urcrnrlon=45, urcrnrlat=42, resolution='l')\n",
    "map.drawcoastlines()\n",
    "\n",
    "# Plot red cities\n",
    "for city in dist_centers:\n",
    "    location = geolocator.geocode(city + \", Turkey\")\n",
    "    lon, lat = location.longitude, location.latitude\n",
    "    x, y = map(lon, lat)\n",
    "    map.plot(x, y, 'bo')\n",
    "\n",
    "# Plot blue cities\n",
    "for city in affected_cities:\n",
    "    location = geolocator.geocode(city + \", Turkey\")\n",
    "    lon, lat = location.longitude, location.latitude\n",
    "    x, y = map(lon, lat)\n",
    "    map.plot(x, y, 'ro')\n",
    "\n",
    "# Show the map\n",
    "plt.show()"
   ]
  },
  {
   "cell_type": "markdown",
   "metadata": {},
   "source": [
    "## Fixed Values"
   ]
  },
  {
   "cell_type": "code",
   "execution_count": null,
   "metadata": {},
   "outputs": [],
   "source": [
    "MAX_HELICOPTER_CAPACITY = 20\n",
    "HELICOPTER_SPEED = 200\n",
    "MAX_TRUCK_CAPACITY = 50\n",
    "TRUCK_SPEED = 100\n",
    "HELICOPTER_NUMBER = 10\n",
    "TRUCK_NUMBER = 500\n",
    "NUM_DISTRIBUTION_CENTERS = 10\n",
    "NUM_AFFECTED_CITIES = 11"
   ]
  },
  {
   "cell_type": "markdown",
   "metadata": {},
   "source": [
    "### Supplies and demands are proportional with population"
   ]
  },
  {
   "cell_type": "code",
   "execution_count": null,
   "metadata": {},
   "outputs": [],
   "source": [
    "supplies = np.load('../Datasets/numpy-arrays/supplies.npy')\n",
    "\n",
    "demands = np.load('../Datasets/numpy-arrays/demands.npy')"
   ]
  },
  {
   "cell_type": "code",
   "execution_count": null,
   "metadata": {},
   "outputs": [],
   "source": [
    "max_helicopter = np.load('../Datasets/numpy-arrays/max_helicopter.npy')"
   ]
  },
  {
   "cell_type": "code",
   "execution_count": null,
   "metadata": {},
   "outputs": [],
   "source": [
    "max_truck = np.load('../Datasets/numpy-arrays/max_truck.npy')"
   ]
  },
  {
   "cell_type": "markdown",
   "metadata": {},
   "source": [
    "# Genetic Algorithm"
   ]
  },
  {
   "cell_type": "markdown",
   "metadata": {},
   "source": [
    "### Creating the Population"
   ]
  },
  {
   "cell_type": "code",
   "execution_count": null,
   "metadata": {},
   "outputs": [],
   "source": [
    "def create_population(size, max_truck, max_helicopter, supplies, demands):\n",
    "    population = []\n",
    "    for _ in range(size):\n",
    "        # Copy maximum capacities\n",
    "        remaining_truck = max_truck.copy()\n",
    "        remaining_helicopter = max_helicopter.copy()\n",
    "        \n",
    "        # Shuffle the order of indices for i and j\n",
    "        indices_i = list(range(10))\n",
    "        indices_j = list(range(11))\n",
    "        \n",
    "        # Shuffle the order of indices again for i and j\n",
    "        random.shuffle(indices_i)\n",
    "        random.shuffle(indices_j)\n",
    "\n",
    "        # Create a 2D list for truck transfers with random values\n",
    "        truck_transfers = np.zeros((10, 11), dtype=int)\n",
    "        for i in indices_i:\n",
    "            for j in indices_j:\n",
    "                # Maximum transfer allowed is the lesser of remaining supply, demand, and remaining truck capacity\n",
    "                max_transfer = min(supplies[i], demands[j], remaining_truck[i])  \n",
    "                truck_transfer = np.random.randint(0, max_transfer + 1)\n",
    "                truck_transfers[i][j] = truck_transfer\n",
    "                # Decrease remaining truck capacity\n",
    "                remaining_truck[i] -= truck_transfer\n",
    "                \n",
    "        random.shuffle(indices_i)\n",
    "        random.shuffle(indices_j)\n",
    "        \n",
    "        # Create a 2D list for helicopter transfers based on truck transfers\n",
    "        helicopter_transfers = np.zeros((10, 11), dtype=int)\n",
    "        for i in indices_i:\n",
    "            for j in indices_j:\n",
    "                # Maximum transfer allowed is the lesser of remaining supply, remaining demand, and remaining helicopter capacity\n",
    "                remaining_supply = supplies[i] - truck_transfers[i][j]\n",
    "                remaining_demand = demands[j] - truck_transfers[i][j]\n",
    "                max_transfer = min(remaining_supply, remaining_demand, remaining_helicopter[i])  \n",
    "                helicopter_transfer = np.random.randint(0, max_transfer + 1)  # Generate random helicopter transfer\n",
    "                helicopter_transfers[i][j] = helicopter_transfer\n",
    "                # Decrease remaining helicopter capacity\n",
    "                remaining_helicopter[i] -= helicopter_transfer\n",
    "        individual = [\n",
    "            truck_transfers,\n",
    "            helicopter_transfers\n",
    "        ]\n",
    "        population.append(individual)\n",
    "    return population"
   ]
  },
  {
   "cell_type": "markdown",
   "metadata": {},
   "source": [
    "### Fitness Function"
   ]
  },
  {
   "cell_type": "code",
   "execution_count": null,
   "metadata": {},
   "outputs": [],
   "source": [
    "def fitness_function(individual):\n",
    "    truck_transfers = np.array(individual[0])\n",
    "    helicopter_transfers = np.array(individual[1])\n",
    "    total_cost = np.sum(distance_matrix * (helicopter_transfers / HELICOPTER_SPEED))\\\n",
    "    + np.sum(distance_matrix * (truck_transfers / TRUCK_SPEED))\n",
    "    penalty = 0\n",
    "    for i in range(len(supplies)):\n",
    "        if (sum(truck_transfers[i]) + sum(helicopter_transfers[i])) > supplies[i] * 1.2:\n",
    "            penalty +=1\n",
    "        elif sum(truck_transfers[i]) > max_truck[i] *1.2\\\n",
    "        or sum(helicopter_transfers[i]) > max_helicopter[i] *1.2:\n",
    "            penalty +=1\n",
    "    total_cost += 1e6 *penalty\n",
    "    return -total_cost"
   ]
  },
  {
   "cell_type": "markdown",
   "metadata": {},
   "source": [
    "### Selection"
   ]
  },
  {
   "cell_type": "code",
   "execution_count": null,
   "metadata": {},
   "outputs": [],
   "source": [
    "def selection(population, num_parents, fitnesses):\n",
    "    # calculate total fitness of all individuals\n",
    "    total_fitness = sum(fitnesses)\n",
    "    # calculate relative fitness of each individual\n",
    "    rel_fitness = [f/total_fitness for f in fitnesses]\n",
    "    # generate probability intervals for each individual\n",
    "    probs = [sum(rel_fitness[:i+1]) for i in range(len(rel_fitness))]\n",
    "    # draw new population\n",
    "    new_population = []\n",
    "    for n in range(num_parents):\n",
    "        r = random.random()\n",
    "        for (i, individual) in enumerate(population):\n",
    "            if r <= probs[i]:\n",
    "                new_population.append(individual)\n",
    "                break\n",
    "    return new_population"
   ]
  },
  {
   "cell_type": "markdown",
   "metadata": {},
   "source": [
    "### Crossover"
   ]
  },
  {
   "cell_type": "code",
   "execution_count": null,
   "metadata": {},
   "outputs": [],
   "source": [
    "def uniform_crossover(parent1, parent2):\n",
    "    # Define a crossover rate\n",
    "    crossover_rate = 0.5\n",
    "\n",
    "    # Perform uniform crossover\n",
    "    child1_truck = []\n",
    "    child2_truck = []\n",
    "    child1_heli = []\n",
    "    child2_heli = []\n",
    "\n",
    "    # Crossover for truck transfers\n",
    "    for i in range(len(parent1[0])):\n",
    "        if np.random.random() < crossover_rate:\n",
    "            child1_truck.append(parent1[0][i])\n",
    "            child2_truck.append(parent2[0][i])\n",
    "        else:\n",
    "            child1_truck.append(parent2[0][i])\n",
    "            child2_truck.append(parent1[0][i])\n",
    "\n",
    "    # Crossover for helicopter transfers\n",
    "    for i in range(len(parent1[1])):\n",
    "        if np.random.random() < crossover_rate:\n",
    "            child1_heli.append(parent1[1][i])\n",
    "            child2_heli.append(parent2[1][i])\n",
    "        else:\n",
    "            child1_heli.append(parent2[1][i])\n",
    "            child2_heli.append(parent1[1][i])\n",
    "    \n",
    "    return [np.array(child1_truck), np.array(child1_heli)], [np.array(child2_truck), np.array(child2_heli)]"
   ]
  },
  {
   "cell_type": "markdown",
   "metadata": {},
   "source": [
    "### Mutation"
   ]
  },
  {
   "cell_type": "code",
   "execution_count": null,
   "metadata": {},
   "outputs": [],
   "source": [
    "def mutation(individual, mutation_rate, max_truck, max_helicopter, supplies, demands):\n",
    "    truck_transfers, helicopter_transfers = individual\n",
    "\n",
    "    for i in range(10):\n",
    "        for j in range(11):\n",
    "            if np.random.rand() < mutation_rate:\n",
    "                    truck_transfers[i][j] += np.random.randint(-20,20)\n",
    "                    helicopter_transfers[i][j] += np.random.randint(-20,20)\n",
    "                    if truck_transfers[i][j] <0:\n",
    "                        truck_transfers[i][j] = 0\n",
    "                    if helicopter_transfers[i][j] <0:\n",
    "                        helicopter_transfers[i][j] = 0\n",
    "\n",
    "    return [truck_transfers, helicopter_transfers]"
   ]
  },
  {
   "cell_type": "markdown",
   "metadata": {},
   "source": [
    "### Implementation of the Algorithm"
   ]
  },
  {
   "cell_type": "code",
   "execution_count": null,
   "metadata": {},
   "outputs": [],
   "source": [
    "def genetic_algorithm(population_size, num_generations, mutation_rate):\n",
    "    # Create initial population\n",
    "    population = create_population(population_size, max_truck, max_helicopter, supplies, demands)\n",
    "    \n",
    "    # Evaluate the population\n",
    "    fitness_values = [fitness_function(individual) for individual in population]\n",
    "\n",
    "    # Iterate through each generation\n",
    "    for generation in range(num_generations):\n",
    "\n",
    "        # Create a new population\n",
    "        new_population = []\n",
    "\n",
    "        while len(new_population) < population_size:\n",
    "            # Select two parents\n",
    "            parent1, parent2 = selection(population, 2, fitness_values)\n",
    "            \n",
    "            # Create two children by crossover\n",
    "            child1, child2 = uniform_crossover(parent1, parent2)\n",
    "\n",
    "            # Add the children to the new population\n",
    "            new_population += [child1, child2]\n",
    "\n",
    "        # Apply mutation\n",
    "        new_population = [mutation(individual, mutation_rate, max_truck, max_helicopter, supplies, demands) for individual in new_population]\n",
    "\n",
    "        # Replace the old population with the new population\n",
    "        population = new_population\n",
    "\n",
    "        # Evaluate the new population\n",
    "        fitness_values = [fitness_function(individual) for individual in population]\n",
    "        \n",
    "    # Return the individual with the best fitness value\n",
    "    best_fitness_index = np.argmax(fitness_values)\n",
    "    best_individual = population[best_fitness_index]\n",
    "\n",
    "    return best_individual\n",
    "\n",
    "\n",
    "\n",
    "population_size = 10\n",
    "num_generations = 200\n",
    "mutation_rate = 0.01\n",
    "\n",
    "best_individual = genetic_algorithm(population_size, num_generations, mutation_rate)"
   ]
  },
  {
   "cell_type": "markdown",
   "metadata": {},
   "source": [
    "## Results of Genetic Algorithm"
   ]
  },
  {
   "cell_type": "code",
   "execution_count": null,
   "metadata": {},
   "outputs": [],
   "source": [
    "print(\"Best Individual(Truck):\\n\", best_individual[0],\"\\n\")\n",
    "print(\"Best Individual(Helicopter):\\n\", best_individual[1])\n",
    "print(\"Best Fitness:\", -fitness_function(best_individual))"
   ]
  },
  {
   "cell_type": "markdown",
   "metadata": {},
   "source": [
    "# Simulated Annealing Algorithm"
   ]
  },
  {
   "cell_type": "markdown",
   "metadata": {},
   "source": [
    "### Creating the Population"
   ]
  },
  {
   "cell_type": "code",
   "execution_count": null,
   "metadata": {},
   "outputs": [],
   "source": [
    "def create_population(size, max_truck, max_helicopter, supplies, demands):\n",
    "    population = []\n",
    "    for _ in range(size):\n",
    "        # Copy maximum capacities\n",
    "        remaining_truck = max_truck.copy()\n",
    "        remaining_helicopter = max_helicopter.copy()\n",
    "        \n",
    "        # Shuffle the order of indices for i and j\n",
    "        indices_i = list(range(10))\n",
    "        indices_j = list(range(11))\n",
    "        \n",
    "        # Shuffle the order of indices again for i and j\n",
    "        random.shuffle(indices_i)\n",
    "        random.shuffle(indices_j)\n",
    "\n",
    "        # Create a 2D list for truck transfers with random values\n",
    "        truck_transfers = np.zeros((10, 11), dtype=int)\n",
    "        for i in indices_i:\n",
    "            for j in indices_j:\n",
    "                # Maximum transfer allowed is the lesser of remaining supply, demand, and remaining truck capacity\n",
    "                max_transfer = min(supplies[i], demands[j], remaining_truck[i])  \n",
    "                truck_transfer = np.random.randint(0, max_transfer + 1)\n",
    "                truck_transfers[i][j] = truck_transfer\n",
    "                # Decrease remaining truck capacity\n",
    "                remaining_truck[i] -= truck_transfer\n",
    "                \n",
    "        random.shuffle(indices_i)\n",
    "        random.shuffle(indices_j)\n",
    "        \n",
    "        # Create a 2D list for helicopter transfers based on truck transfers\n",
    "        helicopter_transfers = np.zeros((10, 11), dtype=int)\n",
    "        for i in indices_i:\n",
    "            for j in indices_j:\n",
    "                # Maximum transfer allowed is the lesser of remaining supply, remaining demand, and remaining helicopter capacity\n",
    "                remaining_supply = supplies[i] - truck_transfers[i][j]\n",
    "                remaining_demand = demands[j] - truck_transfers[i][j]\n",
    "                max_transfer = min(remaining_supply, remaining_demand, remaining_helicopter[i])  \n",
    "                helicopter_transfer = np.random.randint(0, max_transfer + 1)  # Generate random helicopter transfer\n",
    "                helicopter_transfers[i][j] = helicopter_transfer\n",
    "                # Decrease remaining helicopter capacity\n",
    "                remaining_helicopter[i] -= helicopter_transfer\n",
    "        individual = [\n",
    "            truck_transfers,\n",
    "            helicopter_transfers\n",
    "        ]\n",
    "        population.append(individual)\n",
    "    return population"
   ]
  },
  {
   "cell_type": "markdown",
   "metadata": {},
   "source": [
    "### Fitness Function"
   ]
  },
  {
   "cell_type": "code",
   "execution_count": null,
   "metadata": {},
   "outputs": [],
   "source": [
    "def fitness_function(individual):\n",
    "    truck_transfers = np.array(individual[0])\n",
    "    helicopter_transfers = np.array(individual[1])\n",
    "    total_cost = np.sum(distance_matrix * (helicopter_transfers / HELICOPTER_SPEED))\\\n",
    "    + np.sum(distance_matrix * (truck_transfers / TRUCK_SPEED))\n",
    "    penalty = 0\n",
    "    for i in range(len(supplies)):\n",
    "        if (sum(truck_transfers[i]) + sum(helicopter_transfers[i])) > supplies[i] * 1.2:\n",
    "            penalty +=1\n",
    "        elif sum(truck_transfers[i]) > max_truck[i] *1.2\\\n",
    "        or sum(helicopter_transfers[i]) > max_helicopter[i] *1.2:\n",
    "            penalty +=1\n",
    "    total_cost += 1e6 *penalty\n",
    "    return -total_cost"
   ]
  },
  {
   "cell_type": "code",
   "execution_count": null,
   "metadata": {},
   "outputs": [],
   "source": [
    "def random_neighbor(individual, max_truck, max_helicopter, supplies, demands):\n",
    "    truck_transfers, helicopter_transfers = individual\n",
    "    \n",
    "    # Shuffle the order of indices for i and j\n",
    "    indices_i = list(range(10))\n",
    "    indices_j = list(range(11))\n",
    "        \n",
    "    # Shuffle the order of indices again for i and j\n",
    "    random.shuffle(indices_i)\n",
    "    random.shuffle(indices_j)\n",
    "    \n",
    "    for i in indices_i:\n",
    "        for j in indices_j:\n",
    "            if random.random() < 0.5:\n",
    "                if sum(truck_transfers[i]) >= max_truck[i]:\n",
    "                    truck_transfers[i][j] -= np.random.randint(0, 30)\n",
    "                    if truck_transfers[i][j] < 0:\n",
    "                        truck_transfers[i][j] = 0\n",
    "                else:\n",
    "                    truck_transfers[i][j] += np.random.randint(-2, 10)\n",
    "                    if truck_transfers[i][j] < 0:\n",
    "                        truck_transfers[i][j] = 0\n",
    "            if random.random() < 0.5:\n",
    "                if sum(helicopter_transfers[i]) >= max_helicopter[i]:\n",
    "                    helicopter_transfers[i][j] -= np.random.randint(0, 30)\n",
    "                    if helicopter_transfers[i][j] < 0:\n",
    "                        helicopter_transfers[i][j] = 0\n",
    "                else:\n",
    "                    helicopter_transfers[i][j] += np.random.randint(-2, 10)\n",
    "                    if helicopter_transfers[i][j] < 0:\n",
    "                        helicopter_transfers[i][j] = 0 \n",
    "\n",
    "    # Check if the new solution exceeds capacity limits\n",
    "    for i in range(len(supplies)):\n",
    "        if (sum(truck_transfers[i]) + sum(helicopter_transfers[i])) > supplies[i] * 1.2 \\\n",
    "                or sum(truck_transfers[i]) > max_truck[i] \\\n",
    "                or sum(helicopter_transfers[i]) > max_helicopter[i]:\n",
    "            return individual  # Return the original solution if the new solution exceeds capacity limits\n",
    "\n",
    "    return [truck_transfers, helicopter_transfers]"
   ]
  },
  {
   "cell_type": "markdown",
   "metadata": {},
   "source": [
    "### Probability"
   ]
  },
  {
   "cell_type": "code",
   "execution_count": null,
   "metadata": {},
   "outputs": [],
   "source": [
    "def acceptance_probability(energy, new_energy, temperature):\n",
    "    if new_energy < energy:\n",
    "        return 1.0\n",
    "    return np.exp((energy - new_energy) / temperature)"
   ]
  },
  {
   "cell_type": "markdown",
   "metadata": {},
   "source": [
    "### Implementation of the Algorithm"
   ]
  },
  {
   "cell_type": "code",
   "execution_count": null,
   "metadata": {},
   "outputs": [],
   "source": [
    "def simulated_annealing(initial_solution, max_truck, max_helicopter, supplies, demands, num_iterations, max_temperature):\n",
    "    current_solution = initial_solution\n",
    "    best_solution = initial_solution\n",
    "    current_fitness = fitness_function(current_solution)\n",
    "    best_fitness = current_fitness\n",
    "\n",
    "    for iteration in range(num_iterations):\n",
    "        temperature = max_temperature * (1 - iteration / num_iterations)  # Cooling schedule\n",
    "\n",
    "        new_solution = random_neighbor(current_solution, max_truck, max_helicopter, supplies, demands)\n",
    "        new_fitness = fitness_function(new_solution)\n",
    "\n",
    "        if acceptance_probability(current_fitness, new_fitness, temperature) > random.random():\n",
    "            current_solution = new_solution\n",
    "            current_fitness = new_fitness\n",
    "\n",
    "        if new_fitness > best_fitness:\n",
    "            best_solution = new_solution\n",
    "            best_fitness = new_fitness\n",
    "\n",
    "    return best_solution"
   ]
  },
  {
   "cell_type": "code",
   "execution_count": null,
   "metadata": {},
   "outputs": [],
   "source": [
    "population_size = 1000\n",
    "initial_solution = create_population(population_size, max_truck, max_helicopter, supplies, demands)[0]\n",
    "num_iterations = 1000\n",
    "max_temperature = 10\n",
    "\n",
    "best_individual = simulated_annealing(initial_solution, max_truck, max_helicopter, supplies, demands,\n",
    "                                     num_iterations, max_temperature)"
   ]
  },
  {
   "cell_type": "markdown",
   "metadata": {},
   "source": [
    "## Results"
   ]
  },
  {
   "cell_type": "code",
   "execution_count": null,
   "metadata": {},
   "outputs": [],
   "source": [
    "print(\"Best Individual (Truck):\\n\", best_individual[0], \"\\n\")\n",
    "print(\"Best Individual (Helicopter):\\n\", best_individual[1])\n",
    "print(\"Best Fitness:\", -fitness_function(best_individual))"
   ]
  }
 ],
 "metadata": {
  "kernelspec": {
   "display_name": "Python 3 (ipykernel)",
   "language": "python",
   "name": "python3"
  },
  "language_info": {
   "codemirror_mode": {
    "name": "ipython",
    "version": 3
   },
   "file_extension": ".py",
   "mimetype": "text/x-python",
   "name": "python",
   "nbconvert_exporter": "python",
   "pygments_lexer": "ipython3",
   "version": "3.9.12"
  }
 },
 "nbformat": 4,
 "nbformat_minor": 2
}
