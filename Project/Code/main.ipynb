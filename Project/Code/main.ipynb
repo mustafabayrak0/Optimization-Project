{
 "cells": [
  {
   "cell_type": "markdown",
   "metadata": {},
   "source": [
    "# <strong>YZV 202E - OPTIMIZATION FOR DATA SCIENCE PROJECT</strong>\n",
    "# Importance of Optimization Techniques in Post-Earthquake Relief"
   ]
  },
  {
   "cell_type": "markdown",
   "metadata": {},
   "source": [
    "## Team: Iron-Flag\n",
    "## Team Members: Mustafa Bayrak, Zehra Demir"
   ]
  },
  {
   "cell_type": "markdown",
   "metadata": {},
   "source": [
    "Install necessary packages"
   ]
  },
  {
   "cell_type": "code",
   "execution_count": 47,
   "metadata": {},
   "outputs": [
    {
     "name": "stdout",
     "output_type": "stream",
     "text": [
      "Requirement already satisfied: basemap in c:\\users\\hp\\anaconda3\\lib\\site-packages (1.3.5)\n",
      "Requirement already satisfied: basemap-data<1.4,>=1.3.2 in c:\\users\\hp\\anaconda3\\lib\\site-packages (from basemap) (1.3.2)\n",
      "Requirement already satisfied: pyshp<2.4,>=1.2 in c:\\users\\hp\\anaconda3\\lib\\site-packages (from basemap) (2.3.1)\n",
      "Requirement already satisfied: matplotlib<3.6,>=1.5 in c:\\users\\hp\\anaconda3\\lib\\site-packages (from basemap) (3.5.1)\n",
      "Requirement already satisfied: pyproj<3.4.0,>=1.9.3 in c:\\users\\hp\\anaconda3\\lib\\site-packages (from basemap) (3.3.1)\n",
      "Requirement already satisfied: numpy<1.24,>=1.22 in c:\\users\\hp\\anaconda3\\lib\\site-packages (from basemap) (1.22.4)\n",
      "Requirement already satisfied: cycler>=0.10 in c:\\users\\hp\\anaconda3\\lib\\site-packages (from matplotlib<3.6,>=1.5->basemap) (0.11.0)\n",
      "Requirement already satisfied: fonttools>=4.22.0 in c:\\users\\hp\\anaconda3\\lib\\site-packages (from matplotlib<3.6,>=1.5->basemap) (4.25.0)\n",
      "Requirement already satisfied: kiwisolver>=1.0.1 in c:\\users\\hp\\anaconda3\\lib\\site-packages (from matplotlib<3.6,>=1.5->basemap) (1.3.2)\n",
      "Requirement already satisfied: packaging>=20.0 in c:\\users\\hp\\anaconda3\\lib\\site-packages (from matplotlib<3.6,>=1.5->basemap) (21.3)\n",
      "Requirement already satisfied: pillow>=6.2.0 in c:\\users\\hp\\anaconda3\\lib\\site-packages (from matplotlib<3.6,>=1.5->basemap) (9.0.1)\n",
      "Requirement already satisfied: pyparsing>=2.2.1 in c:\\users\\hp\\anaconda3\\lib\\site-packages (from matplotlib<3.6,>=1.5->basemap) (3.0.4)\n",
      "Requirement already satisfied: python-dateutil>=2.7 in c:\\users\\hp\\anaconda3\\lib\\site-packages (from matplotlib<3.6,>=1.5->basemap) (2.8.2)\n",
      "Requirement already satisfied: certifi in c:\\users\\hp\\anaconda3\\lib\\site-packages (from pyproj<3.4.0,>=1.9.3->basemap) (2022.9.24)\n",
      "Requirement already satisfied: six>=1.5 in c:\\users\\hp\\anaconda3\\lib\\site-packages (from python-dateutil>=2.7->matplotlib<3.6,>=1.5->basemap) (1.16.0)\n",
      "Note: you may need to restart the kernel to use updated packages.\n"
     ]
    },
    {
     "name": "stderr",
     "output_type": "stream",
     "text": [
      "WARNING: Ignoring invalid distribution -ensorflow-intel (c:\\users\\hp\\anaconda3\\lib\\site-packages)\n",
      "WARNING: Ignoring invalid distribution -ensorflow-intel (c:\\users\\hp\\anaconda3\\lib\\site-packages)\n"
     ]
    }
   ],
   "source": [
    "pip install basemap"
   ]
  },
  {
   "cell_type": "code",
   "execution_count": 48,
   "metadata": {},
   "outputs": [
    {
     "name": "stdout",
     "output_type": "stream",
     "text": [
      "Requirement already satisfied: geopy in c:\\users\\hp\\anaconda3\\lib\\site-packages (2.3.0)\n",
      "Requirement already satisfied: geographiclib<3,>=1.52 in c:\\users\\hp\\anaconda3\\lib\\site-packages (from geopy) (2.0)\n",
      "Note: you may need to restart the kernel to use updated packages.\n"
     ]
    },
    {
     "name": "stderr",
     "output_type": "stream",
     "text": [
      "WARNING: Ignoring invalid distribution -ensorflow-intel (c:\\users\\hp\\anaconda3\\lib\\site-packages)\n",
      "WARNING: Ignoring invalid distribution -ensorflow-intel (c:\\users\\hp\\anaconda3\\lib\\site-packages)\n"
     ]
    }
   ],
   "source": [
    "pip install geopy"
   ]
  },
  {
   "cell_type": "markdown",
   "metadata": {},
   "source": [
    "### Importing the necessary libraries"
   ]
  },
  {
   "cell_type": "code",
   "execution_count": 49,
   "metadata": {},
   "outputs": [],
   "source": [
    "import pandas as pd\n",
    "import numpy as np\n",
    "from mpl_toolkits.basemap import Basemap\n",
    "import matplotlib.pyplot as plt\n",
    "import random\n",
    "from geopy.geocoders import Nominatim"
   ]
  },
  {
   "cell_type": "markdown",
   "metadata": {},
   "source": [
    "### Reading the Excel file that contains populations and information of whether they are affected city or distribution city"
   ]
  },
  {
   "cell_type": "code",
   "execution_count": 50,
   "metadata": {},
   "outputs": [],
   "source": [
    "df = pd.read_excel(\"../Datasets/excel/cities.xlsx\")"
   ]
  },
  {
   "cell_type": "markdown",
   "metadata": {},
   "source": [
    "### First 15 cities in the dataframe (descending order)"
   ]
  },
  {
   "cell_type": "code",
   "execution_count": 51,
   "metadata": {},
   "outputs": [
    {
     "data": {
      "text/html": [
       "<div>\n",
       "<style scoped>\n",
       "    .dataframe tbody tr th:only-of-type {\n",
       "        vertical-align: middle;\n",
       "    }\n",
       "\n",
       "    .dataframe tbody tr th {\n",
       "        vertical-align: top;\n",
       "    }\n",
       "\n",
       "    .dataframe thead th {\n",
       "        text-align: right;\n",
       "    }\n",
       "</style>\n",
       "<table border=\"1\" class=\"dataframe\">\n",
       "  <thead>\n",
       "    <tr style=\"text-align: right;\">\n",
       "      <th></th>\n",
       "      <th>Name</th>\n",
       "      <th>Affected</th>\n",
       "      <th>Dist</th>\n",
       "      <th>Population</th>\n",
       "    </tr>\n",
       "  </thead>\n",
       "  <tbody>\n",
       "    <tr>\n",
       "      <th>0</th>\n",
       "      <td>İstanbul</td>\n",
       "      <td>0</td>\n",
       "      <td>1</td>\n",
       "      <td>15462452</td>\n",
       "    </tr>\n",
       "    <tr>\n",
       "      <th>1</th>\n",
       "      <td>Ankara</td>\n",
       "      <td>0</td>\n",
       "      <td>1</td>\n",
       "      <td>5663322</td>\n",
       "    </tr>\n",
       "    <tr>\n",
       "      <th>2</th>\n",
       "      <td>İzmir</td>\n",
       "      <td>0</td>\n",
       "      <td>1</td>\n",
       "      <td>4394694</td>\n",
       "    </tr>\n",
       "    <tr>\n",
       "      <th>3</th>\n",
       "      <td>Bursa</td>\n",
       "      <td>0</td>\n",
       "      <td>1</td>\n",
       "      <td>3101833</td>\n",
       "    </tr>\n",
       "    <tr>\n",
       "      <th>4</th>\n",
       "      <td>Antalya</td>\n",
       "      <td>0</td>\n",
       "      <td>1</td>\n",
       "      <td>2548308</td>\n",
       "    </tr>\n",
       "    <tr>\n",
       "      <th>5</th>\n",
       "      <td>Adana</td>\n",
       "      <td>1</td>\n",
       "      <td>0</td>\n",
       "      <td>2258718</td>\n",
       "    </tr>\n",
       "    <tr>\n",
       "      <th>6</th>\n",
       "      <td>Konya</td>\n",
       "      <td>0</td>\n",
       "      <td>1</td>\n",
       "      <td>2250020</td>\n",
       "    </tr>\n",
       "    <tr>\n",
       "      <th>7</th>\n",
       "      <td>Şanlıurfa</td>\n",
       "      <td>1</td>\n",
       "      <td>0</td>\n",
       "      <td>2115256</td>\n",
       "    </tr>\n",
       "    <tr>\n",
       "      <th>8</th>\n",
       "      <td>Gaziantep</td>\n",
       "      <td>1</td>\n",
       "      <td>0</td>\n",
       "      <td>2101157</td>\n",
       "    </tr>\n",
       "    <tr>\n",
       "      <th>9</th>\n",
       "      <td>Kocaeli</td>\n",
       "      <td>0</td>\n",
       "      <td>1</td>\n",
       "      <td>1997258</td>\n",
       "    </tr>\n",
       "    <tr>\n",
       "      <th>10</th>\n",
       "      <td>Mersin</td>\n",
       "      <td>0</td>\n",
       "      <td>1</td>\n",
       "      <td>1868757</td>\n",
       "    </tr>\n",
       "    <tr>\n",
       "      <th>11</th>\n",
       "      <td>Diyarbakır</td>\n",
       "      <td>1</td>\n",
       "      <td>0</td>\n",
       "      <td>1783431</td>\n",
       "    </tr>\n",
       "    <tr>\n",
       "      <th>12</th>\n",
       "      <td>Hatay</td>\n",
       "      <td>1</td>\n",
       "      <td>0</td>\n",
       "      <td>1659320</td>\n",
       "    </tr>\n",
       "    <tr>\n",
       "      <th>13</th>\n",
       "      <td>Manisa</td>\n",
       "      <td>0</td>\n",
       "      <td>1</td>\n",
       "      <td>1450616</td>\n",
       "    </tr>\n",
       "    <tr>\n",
       "      <th>14</th>\n",
       "      <td>Kayseri</td>\n",
       "      <td>0</td>\n",
       "      <td>1</td>\n",
       "      <td>1421455</td>\n",
       "    </tr>\n",
       "  </tbody>\n",
       "</table>\n",
       "</div>"
      ],
      "text/plain": [
       "          Name  Affected  Dist  Population\n",
       "0     İstanbul         0     1    15462452\n",
       "1       Ankara         0     1     5663322\n",
       "2        İzmir         0     1     4394694\n",
       "3        Bursa         0     1     3101833\n",
       "4      Antalya         0     1     2548308\n",
       "5        Adana         1     0     2258718\n",
       "6        Konya         0     1     2250020\n",
       "7    Şanlıurfa         1     0     2115256\n",
       "8    Gaziantep         1     0     2101157\n",
       "9      Kocaeli         0     1     1997258\n",
       "10      Mersin         0     1     1868757\n",
       "11  Diyarbakır         1     0     1783431\n",
       "12       Hatay         1     0     1659320\n",
       "13      Manisa         0     1     1450616\n",
       "14     Kayseri         0     1     1421455"
      ]
     },
     "execution_count": 51,
     "metadata": {},
     "output_type": "execute_result"
    }
   ],
   "source": [
    "df.head(15)"
   ]
  },
  {
   "cell_type": "markdown",
   "metadata": {},
   "source": [
    "### Load Arrays of distribution centers and affected cities"
   ]
  },
  {
   "cell_type": "code",
   "execution_count": 52,
   "metadata": {},
   "outputs": [],
   "source": [
    "dist_centers = np.load('../Datasets/numpy-arrays/dist_cities.npy')\n",
    "affected_cities = np.load('../Datasets/numpy-arrays/affected_cities.npy')"
   ]
  },
  {
   "cell_type": "markdown",
   "metadata": {},
   "source": [
    "### Names of distribution centers"
   ]
  },
  {
   "cell_type": "code",
   "execution_count": 53,
   "metadata": {},
   "outputs": [
    {
     "data": {
      "text/plain": [
       "array(['İstanbul', 'Ankara', 'İzmir', 'Bursa', 'Antalya', 'Konya',\n",
       "       'Kocaeli', 'Mersin', 'Manisa', 'Kayseri'], dtype='<U8')"
      ]
     },
     "execution_count": 53,
     "metadata": {},
     "output_type": "execute_result"
    }
   ],
   "source": [
    "dist_centers"
   ]
  },
  {
   "cell_type": "markdown",
   "metadata": {},
   "source": [
    "### Names of the affected cities"
   ]
  },
  {
   "cell_type": "code",
   "execution_count": 54,
   "metadata": {},
   "outputs": [
    {
     "data": {
      "text/plain": [
       "array(['Adana', 'Şanlıurfa', 'Gaziantep', 'Diyarbakır', 'Hatay',\n",
       "       'Kahramanmaraş', 'Malatya', 'Adıyaman', 'Elazığ', 'Osmaniye',\n",
       "       'Kilis'], dtype='<U13')"
      ]
     },
     "execution_count": 54,
     "metadata": {},
     "output_type": "execute_result"
    }
   ],
   "source": [
    "affected_cities"
   ]
  },
  {
   "cell_type": "markdown",
   "metadata": {},
   "source": [
    "### Creating the distances matrix"
   ]
  },
  {
   "cell_type": "code",
   "execution_count": 55,
   "metadata": {},
   "outputs": [],
   "source": [
    "distances = pd.read_excel(\"../Datasets/excel/ilmesafe.xlsx\")"
   ]
  },
  {
   "cell_type": "code",
   "execution_count": 56,
   "metadata": {},
   "outputs": [
    {
     "data": {
      "text/html": [
       "<div>\n",
       "<style scoped>\n",
       "    .dataframe tbody tr th:only-of-type {\n",
       "        vertical-align: middle;\n",
       "    }\n",
       "\n",
       "    .dataframe tbody tr th {\n",
       "        vertical-align: top;\n",
       "    }\n",
       "\n",
       "    .dataframe thead th {\n",
       "        text-align: right;\n",
       "    }\n",
       "</style>\n",
       "<table border=\"1\" class=\"dataframe\">\n",
       "  <thead>\n",
       "    <tr style=\"text-align: right;\">\n",
       "      <th></th>\n",
       "      <th>Name</th>\n",
       "      <th>Adana</th>\n",
       "      <th>Adıyaman</th>\n",
       "      <th>Afyonkarahisar</th>\n",
       "      <th>Ağrı</th>\n",
       "      <th>Amasya</th>\n",
       "      <th>Ankara</th>\n",
       "      <th>Antalya</th>\n",
       "      <th>Artvin</th>\n",
       "      <th>Aydın</th>\n",
       "      <th>...</th>\n",
       "      <th>Batman</th>\n",
       "      <th>Şırnak</th>\n",
       "      <th>Bartın</th>\n",
       "      <th>Ardahan</th>\n",
       "      <th>Iğdır</th>\n",
       "      <th>Yalova</th>\n",
       "      <th>Karabük</th>\n",
       "      <th>Kilis</th>\n",
       "      <th>Osmaniye</th>\n",
       "      <th>Düzce</th>\n",
       "    </tr>\n",
       "  </thead>\n",
       "  <tbody>\n",
       "    <tr>\n",
       "      <th>0</th>\n",
       "      <td>Adana</td>\n",
       "      <td>NaN</td>\n",
       "      <td>337.0</td>\n",
       "      <td>578.0</td>\n",
       "      <td>973.0</td>\n",
       "      <td>603.0</td>\n",
       "      <td>492.0</td>\n",
       "      <td>547.0</td>\n",
       "      <td>1001.0</td>\n",
       "      <td>880.0</td>\n",
       "      <td>...</td>\n",
       "      <td>628.0</td>\n",
       "      <td>712.0</td>\n",
       "      <td>784.0</td>\n",
       "      <td>1037.0</td>\n",
       "      <td>1077.0</td>\n",
       "      <td>905.0</td>\n",
       "      <td>714.0</td>\n",
       "      <td>251.0</td>\n",
       "      <td>89.0</td>\n",
       "      <td>735.0</td>\n",
       "    </tr>\n",
       "    <tr>\n",
       "      <th>1</th>\n",
       "      <td>Adıyaman</td>\n",
       "      <td>337.0</td>\n",
       "      <td>NaN</td>\n",
       "      <td>915.0</td>\n",
       "      <td>642.0</td>\n",
       "      <td>627.0</td>\n",
       "      <td>732.0</td>\n",
       "      <td>884.0</td>\n",
       "      <td>715.0</td>\n",
       "      <td>1217.0</td>\n",
       "      <td>...</td>\n",
       "      <td>297.0</td>\n",
       "      <td>464.0</td>\n",
       "      <td>1016.0</td>\n",
       "      <td>751.0</td>\n",
       "      <td>746.0</td>\n",
       "      <td>1137.0</td>\n",
       "      <td>946.0</td>\n",
       "      <td>210.0</td>\n",
       "      <td>244.0</td>\n",
       "      <td>966.0</td>\n",
       "    </tr>\n",
       "    <tr>\n",
       "      <th>2</th>\n",
       "      <td>Afyonkarahisar</td>\n",
       "      <td>578.0</td>\n",
       "      <td>915.0</td>\n",
       "      <td>NaN</td>\n",
       "      <td>1320.0</td>\n",
       "      <td>596.0</td>\n",
       "      <td>255.0</td>\n",
       "      <td>287.0</td>\n",
       "      <td>1224.0</td>\n",
       "      <td>340.0</td>\n",
       "      <td>...</td>\n",
       "      <td>1207.0</td>\n",
       "      <td>1290.0</td>\n",
       "      <td>518.0</td>\n",
       "      <td>1361.0</td>\n",
       "      <td>1464.0</td>\n",
       "      <td>346.0</td>\n",
       "      <td>449.0</td>\n",
       "      <td>830.0</td>\n",
       "      <td>667.0</td>\n",
       "      <td>371.0</td>\n",
       "    </tr>\n",
       "    <tr>\n",
       "      <th>3</th>\n",
       "      <td>Ağrı</td>\n",
       "      <td>973.0</td>\n",
       "      <td>642.0</td>\n",
       "      <td>1320.0</td>\n",
       "      <td>NaN</td>\n",
       "      <td>740.0</td>\n",
       "      <td>1055.0</td>\n",
       "      <td>1424.0</td>\n",
       "      <td>364.0</td>\n",
       "      <td>1634.0</td>\n",
       "      <td>...</td>\n",
       "      <td>365.0</td>\n",
       "      <td>424.0</td>\n",
       "      <td>1171.0</td>\n",
       "      <td>305.0</td>\n",
       "      <td>144.0</td>\n",
       "      <td>1363.0</td>\n",
       "      <td>1106.0</td>\n",
       "      <td>812.0</td>\n",
       "      <td>880.0</td>\n",
       "      <td>1192.0</td>\n",
       "    </tr>\n",
       "    <tr>\n",
       "      <th>4</th>\n",
       "      <td>Amasya</td>\n",
       "      <td>603.0</td>\n",
       "      <td>627.0</td>\n",
       "      <td>596.0</td>\n",
       "      <td>740.0</td>\n",
       "      <td>NaN</td>\n",
       "      <td>331.0</td>\n",
       "      <td>823.0</td>\n",
       "      <td>679.0</td>\n",
       "      <td>935.0</td>\n",
       "      <td>...</td>\n",
       "      <td>805.0</td>\n",
       "      <td>998.0</td>\n",
       "      <td>436.0</td>\n",
       "      <td>781.0</td>\n",
       "      <td>884.0</td>\n",
       "      <td>629.0</td>\n",
       "      <td>371.0</td>\n",
       "      <td>640.0</td>\n",
       "      <td>603.0</td>\n",
       "      <td>458.0</td>\n",
       "    </tr>\n",
       "    <tr>\n",
       "      <th>...</th>\n",
       "      <td>...</td>\n",
       "      <td>...</td>\n",
       "      <td>...</td>\n",
       "      <td>...</td>\n",
       "      <td>...</td>\n",
       "      <td>...</td>\n",
       "      <td>...</td>\n",
       "      <td>...</td>\n",
       "      <td>...</td>\n",
       "      <td>...</td>\n",
       "      <td>...</td>\n",
       "      <td>...</td>\n",
       "      <td>...</td>\n",
       "      <td>...</td>\n",
       "      <td>...</td>\n",
       "      <td>...</td>\n",
       "      <td>...</td>\n",
       "      <td>...</td>\n",
       "      <td>...</td>\n",
       "      <td>...</td>\n",
       "      <td>...</td>\n",
       "    </tr>\n",
       "    <tr>\n",
       "      <th>76</th>\n",
       "      <td>Yalova</td>\n",
       "      <td>905.0</td>\n",
       "      <td>1137.0</td>\n",
       "      <td>346.0</td>\n",
       "      <td>1363.0</td>\n",
       "      <td>629.0</td>\n",
       "      <td>407.0</td>\n",
       "      <td>610.0</td>\n",
       "      <td>1238.0</td>\n",
       "      <td>507.0</td>\n",
       "      <td>...</td>\n",
       "      <td>1403.0</td>\n",
       "      <td>1549.0</td>\n",
       "      <td>373.0</td>\n",
       "      <td>1347.0</td>\n",
       "      <td>1507.0</td>\n",
       "      <td>NaN</td>\n",
       "      <td>351.0</td>\n",
       "      <td>1116.0</td>\n",
       "      <td>994.0</td>\n",
       "      <td>171.0</td>\n",
       "    </tr>\n",
       "    <tr>\n",
       "      <th>77</th>\n",
       "      <td>Karabük</td>\n",
       "      <td>714.0</td>\n",
       "      <td>946.0</td>\n",
       "      <td>449.0</td>\n",
       "      <td>1106.0</td>\n",
       "      <td>371.0</td>\n",
       "      <td>216.0</td>\n",
       "      <td>735.0</td>\n",
       "      <td>958.0</td>\n",
       "      <td>788.0</td>\n",
       "      <td>...</td>\n",
       "      <td>1174.0</td>\n",
       "      <td>1358.0</td>\n",
       "      <td>86.0</td>\n",
       "      <td>1067.0</td>\n",
       "      <td>1250.0</td>\n",
       "      <td>351.0</td>\n",
       "      <td>NaN</td>\n",
       "      <td>925.0</td>\n",
       "      <td>803.0</td>\n",
       "      <td>180.0</td>\n",
       "    </tr>\n",
       "    <tr>\n",
       "      <th>78</th>\n",
       "      <td>Kilis</td>\n",
       "      <td>251.0</td>\n",
       "      <td>210.0</td>\n",
       "      <td>830.0</td>\n",
       "      <td>812.0</td>\n",
       "      <td>640.0</td>\n",
       "      <td>711.0</td>\n",
       "      <td>798.0</td>\n",
       "      <td>885.0</td>\n",
       "      <td>1131.0</td>\n",
       "      <td>...</td>\n",
       "      <td>467.0</td>\n",
       "      <td>550.0</td>\n",
       "      <td>995.0</td>\n",
       "      <td>920.0</td>\n",
       "      <td>915.0</td>\n",
       "      <td>1116.0</td>\n",
       "      <td>925.0</td>\n",
       "      <td>NaN</td>\n",
       "      <td>159.0</td>\n",
       "      <td>945.0</td>\n",
       "    </tr>\n",
       "    <tr>\n",
       "      <th>79</th>\n",
       "      <td>Osmaniye</td>\n",
       "      <td>89.0</td>\n",
       "      <td>244.0</td>\n",
       "      <td>667.0</td>\n",
       "      <td>880.0</td>\n",
       "      <td>603.0</td>\n",
       "      <td>581.0</td>\n",
       "      <td>636.0</td>\n",
       "      <td>909.0</td>\n",
       "      <td>969.0</td>\n",
       "      <td>...</td>\n",
       "      <td>535.0</td>\n",
       "      <td>619.0</td>\n",
       "      <td>873.0</td>\n",
       "      <td>944.0</td>\n",
       "      <td>984.0</td>\n",
       "      <td>994.0</td>\n",
       "      <td>803.0</td>\n",
       "      <td>159.0</td>\n",
       "      <td>NaN</td>\n",
       "      <td>823.0</td>\n",
       "    </tr>\n",
       "    <tr>\n",
       "      <th>80</th>\n",
       "      <td>Düzce</td>\n",
       "      <td>735.0</td>\n",
       "      <td>966.0</td>\n",
       "      <td>371.0</td>\n",
       "      <td>1192.0</td>\n",
       "      <td>458.0</td>\n",
       "      <td>237.0</td>\n",
       "      <td>636.0</td>\n",
       "      <td>1067.0</td>\n",
       "      <td>688.0</td>\n",
       "      <td>...</td>\n",
       "      <td>1232.0</td>\n",
       "      <td>1378.0</td>\n",
       "      <td>202.0</td>\n",
       "      <td>1177.0</td>\n",
       "      <td>1336.0</td>\n",
       "      <td>171.0</td>\n",
       "      <td>180.0</td>\n",
       "      <td>945.0</td>\n",
       "      <td>823.0</td>\n",
       "      <td>NaN</td>\n",
       "    </tr>\n",
       "  </tbody>\n",
       "</table>\n",
       "<p>81 rows × 82 columns</p>\n",
       "</div>"
      ],
      "text/plain": [
       "              Name  Adana  Adıyaman  Afyonkarahisar    Ağrı  Amasya  Ankara  \\\n",
       "0            Adana    NaN     337.0           578.0   973.0   603.0   492.0   \n",
       "1         Adıyaman  337.0       NaN           915.0   642.0   627.0   732.0   \n",
       "2   Afyonkarahisar  578.0     915.0             NaN  1320.0   596.0   255.0   \n",
       "3             Ağrı  973.0     642.0          1320.0     NaN   740.0  1055.0   \n",
       "4           Amasya  603.0     627.0           596.0   740.0     NaN   331.0   \n",
       "..             ...    ...       ...             ...     ...     ...     ...   \n",
       "76          Yalova  905.0    1137.0           346.0  1363.0   629.0   407.0   \n",
       "77         Karabük  714.0     946.0           449.0  1106.0   371.0   216.0   \n",
       "78           Kilis  251.0     210.0           830.0   812.0   640.0   711.0   \n",
       "79        Osmaniye   89.0     244.0           667.0   880.0   603.0   581.0   \n",
       "80           Düzce  735.0     966.0           371.0  1192.0   458.0   237.0   \n",
       "\n",
       "    Antalya  Artvin   Aydın  ...  Batman  Şırnak  Bartın  Ardahan   Iğdır  \\\n",
       "0     547.0  1001.0   880.0  ...   628.0   712.0   784.0   1037.0  1077.0   \n",
       "1     884.0   715.0  1217.0  ...   297.0   464.0  1016.0    751.0   746.0   \n",
       "2     287.0  1224.0   340.0  ...  1207.0  1290.0   518.0   1361.0  1464.0   \n",
       "3    1424.0   364.0  1634.0  ...   365.0   424.0  1171.0    305.0   144.0   \n",
       "4     823.0   679.0   935.0  ...   805.0   998.0   436.0    781.0   884.0   \n",
       "..      ...     ...     ...  ...     ...     ...     ...      ...     ...   \n",
       "76    610.0  1238.0   507.0  ...  1403.0  1549.0   373.0   1347.0  1507.0   \n",
       "77    735.0   958.0   788.0  ...  1174.0  1358.0    86.0   1067.0  1250.0   \n",
       "78    798.0   885.0  1131.0  ...   467.0   550.0   995.0    920.0   915.0   \n",
       "79    636.0   909.0   969.0  ...   535.0   619.0   873.0    944.0   984.0   \n",
       "80    636.0  1067.0   688.0  ...  1232.0  1378.0   202.0   1177.0  1336.0   \n",
       "\n",
       "    Yalova  Karabük   Kilis  Osmaniye   Düzce  \n",
       "0    905.0    714.0   251.0      89.0   735.0  \n",
       "1   1137.0    946.0   210.0     244.0   966.0  \n",
       "2    346.0    449.0   830.0     667.0   371.0  \n",
       "3   1363.0   1106.0   812.0     880.0  1192.0  \n",
       "4    629.0    371.0   640.0     603.0   458.0  \n",
       "..     ...      ...     ...       ...     ...  \n",
       "76     NaN    351.0  1116.0     994.0   171.0  \n",
       "77   351.0      NaN   925.0     803.0   180.0  \n",
       "78  1116.0    925.0     NaN     159.0   945.0  \n",
       "79   994.0    803.0   159.0       NaN   823.0  \n",
       "80   171.0    180.0   945.0     823.0     NaN  \n",
       "\n",
       "[81 rows x 82 columns]"
      ]
     },
     "execution_count": 56,
     "metadata": {},
     "output_type": "execute_result"
    }
   ],
   "source": [
    "distances"
   ]
  },
  {
   "cell_type": "markdown",
   "metadata": {},
   "source": [
    "Create a new dataframe containing distribution cities in rows"
   ]
  },
  {
   "cell_type": "code",
   "execution_count": 57,
   "metadata": {},
   "outputs": [],
   "source": [
    "new_df = pd.DataFrame(columns=distances.columns)\n",
    "\n",
    "# Iterate over each row in the original dataframe\n",
    "for index, row in distances.iterrows():\n",
    "    if row['Name'] in dist_centers:\n",
    "        # Append the row to the new dataframe\n",
    "        new_df = pd.concat([new_df, row.to_frame().T])\n",
    "\n",
    "# Reset the index of the new dataframe\n",
    "new_df.reset_index(drop=True, inplace=True)"
   ]
  },
  {
   "cell_type": "markdown",
   "metadata": {},
   "source": [
    "### Distances between distribution centers to each affected city"
   ]
  },
  {
   "cell_type": "code",
   "execution_count": 58,
   "metadata": {},
   "outputs": [],
   "source": [
    "distance_df = new_df[affected_cities]"
   ]
  },
  {
   "cell_type": "code",
   "execution_count": 59,
   "metadata": {},
   "outputs": [
    {
     "data": {
      "text/html": [
       "<div>\n",
       "<style scoped>\n",
       "    .dataframe tbody tr th:only-of-type {\n",
       "        vertical-align: middle;\n",
       "    }\n",
       "\n",
       "    .dataframe tbody tr th {\n",
       "        vertical-align: top;\n",
       "    }\n",
       "\n",
       "    .dataframe thead th {\n",
       "        text-align: right;\n",
       "    }\n",
       "</style>\n",
       "<table border=\"1\" class=\"dataframe\">\n",
       "  <thead>\n",
       "    <tr style=\"text-align: right;\">\n",
       "      <th></th>\n",
       "      <th>Adana</th>\n",
       "      <th>Şanlıurfa</th>\n",
       "      <th>Gaziantep</th>\n",
       "      <th>Diyarbakır</th>\n",
       "      <th>Hatay</th>\n",
       "      <th>Kahramanmaraş</th>\n",
       "      <th>Malatya</th>\n",
       "      <th>Adıyaman</th>\n",
       "      <th>Elazığ</th>\n",
       "      <th>Osmaniye</th>\n",
       "      <th>Kilis</th>\n",
       "    </tr>\n",
       "  </thead>\n",
       "  <tbody>\n",
       "    <tr>\n",
       "      <th>0</th>\n",
       "      <td>492.0</td>\n",
       "      <td>786.0</td>\n",
       "      <td>647.0</td>\n",
       "      <td>898.0</td>\n",
       "      <td>688.0</td>\n",
       "      <td>572.0</td>\n",
       "      <td>652.0</td>\n",
       "      <td>732.0</td>\n",
       "      <td>749.0</td>\n",
       "      <td>581.0</td>\n",
       "      <td>711.0</td>\n",
       "    </tr>\n",
       "    <tr>\n",
       "      <th>1</th>\n",
       "      <td>547.0</td>\n",
       "      <td>902.0</td>\n",
       "      <td>763.0</td>\n",
       "      <td>1084.0</td>\n",
       "      <td>743.0</td>\n",
       "      <td>744.0</td>\n",
       "      <td>953.0</td>\n",
       "      <td>884.0</td>\n",
       "      <td>1051.0</td>\n",
       "      <td>636.0</td>\n",
       "      <td>798.0</td>\n",
       "    </tr>\n",
       "    <tr>\n",
       "      <th>2</th>\n",
       "      <td>856.0</td>\n",
       "      <td>1158.0</td>\n",
       "      <td>1020.0</td>\n",
       "      <td>1270.0</td>\n",
       "      <td>1052.0</td>\n",
       "      <td>944.0</td>\n",
       "      <td>1024.0</td>\n",
       "      <td>1104.0</td>\n",
       "      <td>1121.0</td>\n",
       "      <td>945.0</td>\n",
       "      <td>1083.0</td>\n",
       "    </tr>\n",
       "    <tr>\n",
       "      <th>3</th>\n",
       "      <td>70.0</td>\n",
       "      <td>424.0</td>\n",
       "      <td>286.0</td>\n",
       "      <td>606.0</td>\n",
       "      <td>265.0</td>\n",
       "      <td>267.0</td>\n",
       "      <td>466.0</td>\n",
       "      <td>407.0</td>\n",
       "      <td>564.0</td>\n",
       "      <td>159.0</td>\n",
       "      <td>321.0</td>\n",
       "    </tr>\n",
       "    <tr>\n",
       "      <th>4</th>\n",
       "      <td>951.0</td>\n",
       "      <td>1237.0</td>\n",
       "      <td>1098.0</td>\n",
       "      <td>1349.0</td>\n",
       "      <td>1147.0</td>\n",
       "      <td>1023.0</td>\n",
       "      <td>1103.0</td>\n",
       "      <td>1183.0</td>\n",
       "      <td>1200.0</td>\n",
       "      <td>1040.0</td>\n",
       "      <td>1162.0</td>\n",
       "    </tr>\n",
       "    <tr>\n",
       "      <th>5</th>\n",
       "      <td>907.0</td>\n",
       "      <td>1261.0</td>\n",
       "      <td>1123.0</td>\n",
       "      <td>1436.0</td>\n",
       "      <td>1102.0</td>\n",
       "      <td>1104.0</td>\n",
       "      <td>1190.0</td>\n",
       "      <td>1244.0</td>\n",
       "      <td>1287.0</td>\n",
       "      <td>995.0</td>\n",
       "      <td>1158.0</td>\n",
       "    </tr>\n",
       "    <tr>\n",
       "      <th>6</th>\n",
       "      <td>335.0</td>\n",
       "      <td>468.0</td>\n",
       "      <td>330.0</td>\n",
       "      <td>581.0</td>\n",
       "      <td>428.0</td>\n",
       "      <td>255.0</td>\n",
       "      <td>335.0</td>\n",
       "      <td>414.0</td>\n",
       "      <td>432.0</td>\n",
       "      <td>356.0</td>\n",
       "      <td>393.0</td>\n",
       "    </tr>\n",
       "    <tr>\n",
       "      <th>7</th>\n",
       "      <td>840.0</td>\n",
       "      <td>1127.0</td>\n",
       "      <td>988.0</td>\n",
       "      <td>1239.0</td>\n",
       "      <td>1036.0</td>\n",
       "      <td>913.0</td>\n",
       "      <td>993.0</td>\n",
       "      <td>1072.0</td>\n",
       "      <td>1090.0</td>\n",
       "      <td>929.0</td>\n",
       "      <td>1051.0</td>\n",
       "    </tr>\n",
       "    <tr>\n",
       "      <th>8</th>\n",
       "      <td>357.0</td>\n",
       "      <td>712.0</td>\n",
       "      <td>573.0</td>\n",
       "      <td>887.0</td>\n",
       "      <td>553.0</td>\n",
       "      <td>555.0</td>\n",
       "      <td>641.0</td>\n",
       "      <td>695.0</td>\n",
       "      <td>738.0</td>\n",
       "      <td>446.0</td>\n",
       "      <td>609.0</td>\n",
       "    </tr>\n",
       "    <tr>\n",
       "      <th>9</th>\n",
       "      <td>886.0</td>\n",
       "      <td>1240.0</td>\n",
       "      <td>1102.0</td>\n",
       "      <td>1415.0</td>\n",
       "      <td>1081.0</td>\n",
       "      <td>1083.0</td>\n",
       "      <td>1169.0</td>\n",
       "      <td>1223.0</td>\n",
       "      <td>1266.0</td>\n",
       "      <td>974.0</td>\n",
       "      <td>1137.0</td>\n",
       "    </tr>\n",
       "  </tbody>\n",
       "</table>\n",
       "</div>"
      ],
      "text/plain": [
       "   Adana Şanlıurfa Gaziantep Diyarbakır   Hatay Kahramanmaraş Malatya  \\\n",
       "0  492.0     786.0     647.0      898.0   688.0         572.0   652.0   \n",
       "1  547.0     902.0     763.0     1084.0   743.0         744.0   953.0   \n",
       "2  856.0    1158.0    1020.0     1270.0  1052.0         944.0  1024.0   \n",
       "3   70.0     424.0     286.0      606.0   265.0         267.0   466.0   \n",
       "4  951.0    1237.0    1098.0     1349.0  1147.0        1023.0  1103.0   \n",
       "5  907.0    1261.0    1123.0     1436.0  1102.0        1104.0  1190.0   \n",
       "6  335.0     468.0     330.0      581.0   428.0         255.0   335.0   \n",
       "7  840.0    1127.0     988.0     1239.0  1036.0         913.0   993.0   \n",
       "8  357.0     712.0     573.0      887.0   553.0         555.0   641.0   \n",
       "9  886.0    1240.0    1102.0     1415.0  1081.0        1083.0  1169.0   \n",
       "\n",
       "  Adıyaman  Elazığ Osmaniye   Kilis  \n",
       "0    732.0   749.0    581.0   711.0  \n",
       "1    884.0  1051.0    636.0   798.0  \n",
       "2   1104.0  1121.0    945.0  1083.0  \n",
       "3    407.0   564.0    159.0   321.0  \n",
       "4   1183.0  1200.0   1040.0  1162.0  \n",
       "5   1244.0  1287.0    995.0  1158.0  \n",
       "6    414.0   432.0    356.0   393.0  \n",
       "7   1072.0  1090.0    929.0  1051.0  \n",
       "8    695.0   738.0    446.0   609.0  \n",
       "9   1223.0  1266.0    974.0  1137.0  "
      ]
     },
     "execution_count": 59,
     "metadata": {},
     "output_type": "execute_result"
    }
   ],
   "source": [
    "distance_df"
   ]
  },
  {
   "cell_type": "code",
   "execution_count": 60,
   "metadata": {},
   "outputs": [],
   "source": [
    "distance_matrix = np.array(distance_df)"
   ]
  },
  {
   "cell_type": "code",
   "execution_count": 61,
   "metadata": {},
   "outputs": [
    {
     "data": {
      "image/png": "[encoded data removed]",
      "text/plain": [
       "<Figure size 432x288 with 1 Axes>"
      ]
     },
     "metadata": {},
     "output_type": "display_data"
    }
   ],
   "source": [
    "# Geocoding setup\n",
    "geolocator = Nominatim(user_agent=\"my-app\")\n",
    "\n",
    "# Map setup\n",
    "map = Basemap(llcrnrlon=26, llcrnrlat=35, urcrnrlon=45, urcrnrlat=42, resolution='l')\n",
    "map.drawcoastlines()\n",
    "\n",
    "# Plot red cities\n",
    "for city in dist_centers:\n",
    "    location = geolocator.geocode(city + \", Turkey\")\n",
    "    lon, lat = location.longitude, location.latitude\n",
    "    x, y = map(lon, lat)\n",
    "    map.plot(x, y, 'bo')\n",
    "\n",
    "# Plot blue cities\n",
    "for city in affected_cities:\n",
    "    location = geolocator.geocode(city + \", Turkey\")\n",
    "    lon, lat = location.longitude, location.latitude\n",
    "    x, y = map(lon, lat)\n",
    "    map.plot(x, y, 'ro')\n",
    "\n",
    "# Show the map\n",
    "plt.show()"
   ]
  },
  {
   "cell_type": "markdown",
   "metadata": {},
   "source": [
    "## Fixed Values"
   ]
  },
  {
   "cell_type": "code",
   "execution_count": 62,
   "metadata": {},
   "outputs": [],
   "source": [
    "MAX_HELICOPTER_CAPACITY = 20\n",
    "HELICOPTER_SPEED = 200\n",
    "MAX_TRUCK_CAPACITY = 50\n",
    "TRUCK_SPEED = 100\n",
    "HELICOPTER_NUMBER = 10\n",
    "TRUCK_NUMBER = 500\n",
    "NUM_DISTRIBUTION_CENTERS = 10\n",
    "NUM_AFFECTED_CITIES = 11"
   ]
  },
  {
   "cell_type": "markdown",
   "metadata": {},
   "source": [
    "### Supplies and demands are proportional with population"
   ]
  },
  {
   "cell_type": "code",
   "execution_count": 63,
   "metadata": {},
   "outputs": [],
   "source": [
    "supplies = np.load('../Datasets/numpy-arrays/supplies.npy')\n",
    "\n",
    "demands = np.load('../Datasets/numpy-arrays/demands.npy')"
   ]
  },
  {
   "cell_type": "code",
   "execution_count": 64,
   "metadata": {},
   "outputs": [
    {
     "data": {
      "text/plain": [
       "9031"
      ]
     },
     "execution_count": 64,
     "metadata": {},
     "output_type": "execute_result"
    }
   ],
   "source": [
    "sum(supplies)"
   ]
  },
  {
   "cell_type": "code",
   "execution_count": 65,
   "metadata": {},
   "outputs": [
    {
     "data": {
      "text/plain": [
       "9013"
      ]
     },
     "execution_count": 65,
     "metadata": {},
     "output_type": "execute_result"
    }
   ],
   "source": [
    "sum(demands)"
   ]
  },
  {
   "cell_type": "code",
   "execution_count": 66,
   "metadata": {},
   "outputs": [],
   "source": [
    "max_helicopter = np.load('../Datasets/numpy-arrays/max_helicopter.npy')"
   ]
  },
  {
   "cell_type": "code",
   "execution_count": 67,
   "metadata": {},
   "outputs": [],
   "source": [
    "max_truck = np.load('../Datasets/numpy-arrays/max_truck.npy')"
   ]
  },
  {
   "cell_type": "markdown",
   "metadata": {},
   "source": [
    "# Genetic Algorithm"
   ]
  },
  {
   "cell_type": "markdown",
   "metadata": {},
   "source": [
    "### Creating the Population"
   ]
  },
  {
   "cell_type": "code",
   "execution_count": 68,
   "metadata": {},
   "outputs": [],
   "source": [
    "def create_population(size, max_truck, max_helicopter, supplies, demands):\n",
    "    population = []\n",
    "    for _ in range(size):\n",
    "        # Copy maximum capacities\n",
    "        remaining_truck = max_truck.copy()\n",
    "        remaining_helicopter = max_helicopter.copy()\n",
    "        \n",
    "        # Shuffle the order of indices for i and j\n",
    "        indices_i = list(range(10))\n",
    "        indices_j = list(range(11))\n",
    "        \n",
    "        # Shuffle the order of indices again for i and j\n",
    "        random.shuffle(indices_i)\n",
    "        random.shuffle(indices_j)\n",
    "\n",
    "        # Create a 2D list for truck transfers with random values\n",
    "        truck_transfers = np.zeros((10, 11), dtype=int)\n",
    "        for i in indices_i:\n",
    "            for j in indices_j:\n",
    "                # Maximum transfer allowed is the lesser of remaining supply, demand, and remaining truck capacity\n",
    "                max_transfer = min(supplies[i], demands[j], remaining_truck[i])  \n",
    "                truck_transfer = np.random.randint(0, max_transfer + 1)\n",
    "                truck_transfers[i][j] = truck_transfer\n",
    "                # Decrease remaining truck capacity\n",
    "                remaining_truck[i] -= truck_transfer\n",
    "                \n",
    "        random.shuffle(indices_i)\n",
    "        random.shuffle(indices_j)\n",
    "        \n",
    "        # Create a 2D list for helicopter transfers based on truck transfers\n",
    "        helicopter_transfers = np.zeros((10, 11), dtype=int)\n",
    "        for i in indices_i:\n",
    "            for j in indices_j:\n",
    "                # Maximum transfer allowed is the lesser of remaining supply, remaining demand, and remaining helicopter capacity\n",
    "                remaining_supply = supplies[i] - truck_transfers[i][j]\n",
    "                remaining_demand = demands[j] - truck_transfers[i][j]\n",
    "                max_transfer = min(remaining_supply, remaining_demand, remaining_helicopter[i])  \n",
    "                helicopter_transfer = np.random.randint(0, max_transfer + 1)  # Generate random helicopter transfer\n",
    "                helicopter_transfers[i][j] = helicopter_transfer\n",
    "                # Decrease remaining helicopter capacity\n",
    "                remaining_helicopter[i] -= helicopter_transfer\n",
    "        individual = [\n",
    "            truck_transfers,\n",
    "            helicopter_transfers\n",
    "        ]\n",
    "        population.append(individual)\n",
    "    return population"
   ]
  },
  {
   "cell_type": "markdown",
   "metadata": {},
   "source": [
    "### Fitness Function"
   ]
  },
  {
   "cell_type": "code",
   "execution_count": 69,
   "metadata": {},
   "outputs": [],
   "source": [
    "def fitness_function(individual):\n",
    "    truck_transfers = np.array(individual[0])\n",
    "    helicopter_transfers = np.array(individual[1])\n",
    "    total_cost = np.sum(distance_matrix * (helicopter_transfers / HELICOPTER_SPEED))\\\n",
    "    + np.sum(distance_matrix * (truck_transfers / TRUCK_SPEED))\n",
    "    penalty = 0\n",
    "    for i in range(len(supplies)):\n",
    "        if (sum(truck_transfers[i]) + sum(helicopter_transfers[i])) > supplies[i] * 1.2:\n",
    "            penalty +=1\n",
    "        elif sum(truck_transfers[i]) > max_truck[i] *1.2\\\n",
    "        or sum(helicopter_transfers[i]) > max_helicopter[i] *1.2:\n",
    "            penalty +=1\n",
    "    total_cost += 1e6 *penalty\n",
    "    return -total_cost"
   ]
  },
  {
   "cell_type": "markdown",
   "metadata": {},
   "source": [
    "### Selection"
   ]
  },
  {
   "cell_type": "code",
   "execution_count": 70,
   "metadata": {},
   "outputs": [],
   "source": [
    "def selection(population, num_parents, fitnesses):\n",
    "    # calculate total fitness of all individuals\n",
    "    total_fitness = sum(fitnesses)\n",
    "    # calculate relative fitness of each individual\n",
    "    rel_fitness = [f/total_fitness for f in fitnesses]\n",
    "    # generate probability intervals for each individual\n",
    "    probs = [sum(rel_fitness[:i+1]) for i in range(len(rel_fitness))]\n",
    "    # draw new population\n",
    "    new_population = []\n",
    "    for n in range(num_parents):\n",
    "        r = random.random()\n",
    "        for (i, individual) in enumerate(population):\n",
    "            if r <= probs[i]:\n",
    "                new_population.append(individual)\n",
    "                break\n",
    "    return new_population"
   ]
  },
  {
   "cell_type": "markdown",
   "metadata": {},
   "source": [
    "### Crossover"
   ]
  },
  {
   "cell_type": "code",
   "execution_count": 71,
   "metadata": {},
   "outputs": [],
   "source": [
    "def uniform_crossover(parent1, parent2):\n",
    "    # Define a crossover rate\n",
    "    crossover_rate = 0.5\n",
    "\n",
    "    # Perform uniform crossover\n",
    "    child1_truck = []\n",
    "    child2_truck = []\n",
    "    child1_heli = []\n",
    "    child2_heli = []\n",
    "\n",
    "    # Crossover for truck transfers\n",
    "    for i in range(len(parent1[0])):\n",
    "        if np.random.random() < crossover_rate:\n",
    "            child1_truck.append(parent1[0][i])\n",
    "            child2_truck.append(parent2[0][i])\n",
    "        else:\n",
    "            child1_truck.append(parent2[0][i])\n",
    "            child2_truck.append(parent1[0][i])\n",
    "\n",
    "    # Crossover for helicopter transfers\n",
    "    for i in range(len(parent1[1])):\n",
    "        if np.random.random() < crossover_rate:\n",
    "            child1_heli.append(parent1[1][i])\n",
    "            child2_heli.append(parent2[1][i])\n",
    "        else:\n",
    "            child1_heli.append(parent2[1][i])\n",
    "            child2_heli.append(parent1[1][i])\n",
    "    \n",
    "    return [np.array(child1_truck), np.array(child1_heli)], [np.array(child2_truck), np.array(child2_heli)]"
   ]
  },
  {
   "cell_type": "markdown",
   "metadata": {},
   "source": [
    "### Mutation"
   ]
  },
  {
   "cell_type": "code",
   "execution_count": 72,
   "metadata": {},
   "outputs": [],
   "source": [
    "def mutation(individual, mutation_rate, max_truck, max_helicopter, supplies, demands):\n",
    "    truck_transfers, helicopter_transfers = individual\n",
    "\n",
    "    for i in range(10):\n",
    "        for j in range(11):\n",
    "            if np.random.rand() < mutation_rate:\n",
    "                    truck_transfers[i][j] += np.random.randint(0,3)\n",
    "                    helicopter_transfers[i][j] += np.random.randint(0,3)\n",
    "\n",
    "    return [truck_transfers, helicopter_transfers]"
   ]
  },
  {
   "cell_type": "markdown",
   "metadata": {},
   "source": [
    "### Implementation of the Algorithm"
   ]
  },
  {
   "cell_type": "code",
   "execution_count": null,
   "metadata": {},
   "outputs": [],
   "source": [
    "def genetic_algorithm(population_size=100, num_generations=200, mutation_rate=0.01):\n",
    "    # Create initial population\n",
    "    population = create_population(population_size, max_truck, max_helicopter, supplies, demands)\n",
    "    \n",
    "    # Evaluate the population\n",
    "    fitness_values = [fitness_function(individual) for individual in population]\n",
    "\n",
    "    # Iterate through each generation\n",
    "    for generation in range(num_generations):\n",
    "\n",
    "        # Create a new population\n",
    "        new_population = []\n",
    "\n",
    "        while len(new_population) < population_size:\n",
    "            # Select two parents\n",
    "            parent1, parent2 = selection(population, 2, fitness_values)\n",
    "            \n",
    "            # Create two children by crossover\n",
    "            child1, child2 = uniform_crossover(parent1, parent2)\n",
    "\n",
    "            # Add the children to the new population\n",
    "            new_population += [child1, child2]\n",
    "\n",
    "        # Apply mutation\n",
    "        new_population = [mutation(individual, mutation_rate, max_truck, max_helicopter, supplies, demands) for individual in new_population]\n",
    "\n",
    "        # Replace the old population with the new population\n",
    "        population = new_population\n",
    "\n",
    "        # Evaluate the new population\n",
    "        fitness_values = [fitness_function(individual) for individual in population]\n",
    "        \n",
    "    # Return the individual with the best fitness value\n",
    "    best_fitness_index = np.argmax(fitness_values)\n",
    "    best_individual = population[best_fitness_index]\n",
    "\n",
    "    return best_individual\n",
    "\n",
    "\n",
    "\n",
    "population_size = 1000\n",
    "num_generations = 200\n",
    "mutation_rate = 0.01\n",
    "\n",
    "best_individual = genetic_algorithm(population_size, num_generations, mutation_rate)"
   ]
  },
  {
   "cell_type": "markdown",
   "metadata": {},
   "source": [
    "## Results of Genetic Algorithm"
   ]
  },
  {
   "cell_type": "code",
   "execution_count": null,
   "metadata": {},
   "outputs": [],
   "source": [
    "print(\"Best Individual(Truck):\\n\", best_individual[0],\"\\n\")\n",
    "print(\"Best Individual(Helicopter):\\n\", best_individual[1])\n",
    "print(\"Best Fitness:\", -fitness_function(best_individual))"
   ]
  },
  {
   "cell_type": "code",
   "execution_count": null,
   "metadata": {},
   "outputs": [],
   "source": [
    "supplies"
   ]
  },
  {
   "cell_type": "code",
   "execution_count": null,
   "metadata": {
    "scrolled": true
   },
   "outputs": [],
   "source": [
    "sum(best_individual[0][0])"
   ]
  },
  {
   "cell_type": "code",
   "execution_count": null,
   "metadata": {},
   "outputs": [],
   "source": [
    "sum(best_individual[1][0])"
   ]
  },
  {
   "cell_type": "code",
   "execution_count": null,
   "metadata": {},
   "outputs": [],
   "source": [
    "max_truck"
   ]
  },
  {
   "cell_type": "code",
   "execution_count": null,
   "metadata": {
    "scrolled": false
   },
   "outputs": [],
   "source": [
    "max_helicopter"
   ]
  },
  {
   "cell_type": "markdown",
   "metadata": {},
   "source": [
    "# Simulated Annealing Algorithm"
   ]
  },
  {
   "cell_type": "markdown",
   "metadata": {},
   "source": [
    "### Creating the Population"
   ]
  },
  {
   "cell_type": "code",
   "execution_count": null,
   "metadata": {},
   "outputs": [],
   "source": [
    "def create_population(size, max_truck, max_helicopter, supplies, demands):\n",
    "    population = []\n",
    "    for _ in range(size):\n",
    "        # Copy maximum capacities\n",
    "        remaining_truck = max_truck.copy()\n",
    "        remaining_helicopter = max_helicopter.copy()\n",
    "        \n",
    "        # Shuffle the order of indices for i and j\n",
    "        indices_i = list(range(10))\n",
    "        indices_j = list(range(11))\n",
    "        \n",
    "        # Shuffle the order of indices again for i and j\n",
    "        random.shuffle(indices_i)\n",
    "        random.shuffle(indices_j)\n",
    "\n",
    "        # Create a 2D list for truck transfers with random values\n",
    "        truck_transfers = np.zeros((10, 11), dtype=int)\n",
    "        for i in indices_i:\n",
    "            for j in indices_j:\n",
    "                # Maximum transfer allowed is the lesser of remaining supply, demand, and remaining truck capacity\n",
    "                max_transfer = min(supplies[i], demands[j], remaining_truck[i])  \n",
    "                truck_transfer = np.random.randint(0, max_transfer + 1)\n",
    "                truck_transfers[i][j] = truck_transfer\n",
    "                # Decrease remaining truck capacity\n",
    "                remaining_truck[i] -= truck_transfer\n",
    "                \n",
    "        random.shuffle(indices_i)\n",
    "        random.shuffle(indices_j)\n",
    "        \n",
    "        # Create a 2D list for helicopter transfers based on truck transfers\n",
    "        helicopter_transfers = np.zeros((10, 11), dtype=int)\n",
    "        for i in indices_i:\n",
    "            for j in indices_j:\n",
    "                # Maximum transfer allowed is the lesser of remaining supply, remaining demand, and remaining helicopter capacity\n",
    "                remaining_supply = supplies[i] - truck_transfers[i][j]\n",
    "                remaining_demand = demands[j] - truck_transfers[i][j]\n",
    "                max_transfer = min(remaining_supply, remaining_demand, remaining_helicopter[i])  \n",
    "                helicopter_transfer = np.random.randint(0, max_transfer + 1)  # Generate random helicopter transfer\n",
    "                helicopter_transfers[i][j] = helicopter_transfer\n",
    "                # Decrease remaining helicopter capacity\n",
    "                remaining_helicopter[i] -= helicopter_transfer\n",
    "        individual = [\n",
    "            truck_transfers,\n",
    "            helicopter_transfers\n",
    "        ]\n",
    "        population.append(individual)\n",
    "    return population"
   ]
  },
  {
   "cell_type": "markdown",
   "metadata": {},
   "source": [
    "### Fitness Function"
   ]
  },
  {
   "cell_type": "code",
   "execution_count": null,
   "metadata": {},
   "outputs": [],
   "source": [
    "def fitness_function(individual):\n",
    "    truck_transfers = np.array(individual[0])\n",
    "    helicopter_transfers = np.array(individual[1])\n",
    "    total_cost = np.sum(distance_matrix * (helicopter_transfers / HELICOPTER_SPEED))\\\n",
    "    + np.sum(distance_matrix * (truck_transfers / TRUCK_SPEED))\n",
    "    penalty = 0\n",
    "    for i in range(len(supplies)):\n",
    "        if (sum(truck_transfers[i]) + sum(helicopter_transfers[i])) > supplies[i] * 1.2:\n",
    "            penalty +=1\n",
    "        elif sum(truck_transfers[i]) > max_truck[i] *1.2\\\n",
    "        or sum(helicopter_transfers[i]) > max_helicopter[i] *1.2:\n",
    "            penalty +=1\n",
    "    total_cost += 1e6 *penalty\n",
    "    return -total_cost"
   ]
  },
  {
   "cell_type": "code",
   "execution_count": null,
   "metadata": {},
   "outputs": [],
   "source": [
    "def random_neighbor(individual, max_truck, max_helicopter, supplies, demands):\n",
    "    truck_transfers, helicopter_transfers = individual\n",
    "    \n",
    "    # Shuffle the order of indices for i and j\n",
    "    indices_i = list(range(10))\n",
    "    indices_j = list(range(11))\n",
    "        \n",
    "    # Shuffle the order of indices again for i and j\n",
    "    random.shuffle(indices_i)\n",
    "    random.shuffle(indices_j)\n",
    "    \n",
    "    for i in indices_i:\n",
    "        for j in indices_j:\n",
    "            if sum(truck_transfers[i]) >= max_truck[i]:\n",
    "                if random.random() < 0.5:\n",
    "                    truck_transfers[i][j] -= np.random.randint(0, 60)\n",
    "                    if truck_transfers[i][j] < 0:\n",
    "                        truck_transfers[i][j] = 0\n",
    "            else:\n",
    "                truck_transfers[i][j] += np.random.randint(-2, 10)\n",
    "                if truck_transfers[i][j] < 0:\n",
    "                    truck_transfers[i][j] = 0 \n",
    "            if sum(helicopter_transfers[i]) >= max_helicopter[i]:\n",
    "                if random.random() < 0.5:\n",
    "                    helicopter_transfers[i][j] -= np.random.randint(0, 60)\n",
    "                    if helicopter_transfers[i][j] < 0:\n",
    "                        helicopter_transfers[i][j] = 0\n",
    "            else:\n",
    "                helicopter_transfers[i][j] += np.random.randint(-2, 10)\n",
    "                if helicopter_transfers[i][j] < 0:\n",
    "                        helicopter_transfers[i][j] = 0 \n",
    "\n",
    "    # Check if the new solution exceeds capacity limits\n",
    "    for i in range(len(supplies)):\n",
    "        if (sum(truck_transfers[i]) + sum(helicopter_transfers[i])) > supplies[i] * 1.2 \\\n",
    "                or sum(truck_transfers[i]) > max_truck[i] \\\n",
    "                or sum(helicopter_transfers[i]) > max_helicopter[i]:\n",
    "            return individual  # Return the original solution if the new solution exceeds capacity limits\n",
    "\n",
    "    return [truck_transfers, helicopter_transfers]"
   ]
  },
  {
   "cell_type": "markdown",
   "metadata": {},
   "source": [
    "### Probability"
   ]
  },
  {
   "cell_type": "code",
   "execution_count": null,
   "metadata": {},
   "outputs": [],
   "source": [
    "def acceptance_probability(energy, new_energy, temperature):\n",
    "    if new_energy < energy:\n",
    "        return 1.0\n",
    "    return np.exp((energy - new_energy) / temperature)"
   ]
  },
  {
   "cell_type": "markdown",
   "metadata": {},
   "source": [
    "### Implementation of the Algorithm"
   ]
  },
  {
   "cell_type": "code",
   "execution_count": null,
   "metadata": {},
   "outputs": [],
   "source": [
    "def simulated_annealing(initial_solution, max_truck, max_helicopter, supplies, demands, num_iterations, max_temperature):\n",
    "    current_solution = initial_solution\n",
    "    best_solution = initial_solution\n",
    "    current_fitness = fitness_function(current_solution)\n",
    "    best_fitness = current_fitness\n",
    "\n",
    "    for iteration in range(num_iterations):\n",
    "        temperature = max_temperature * (1 - iteration / num_iterations)  # Cooling schedule\n",
    "\n",
    "        new_solution = random_neighbor(current_solution, max_truck, max_helicopter, supplies, demands)\n",
    "        new_fitness = fitness_function(new_solution)\n",
    "\n",
    "        if acceptance_probability(current_fitness, new_fitness, temperature) > random.random():\n",
    "            current_solution = new_solution\n",
    "            current_fitness = new_fitness\n",
    "\n",
    "        if new_fitness > best_fitness:\n",
    "            best_solution = new_solution\n",
    "            best_fitness = new_fitness\n",
    "\n",
    "    return best_solution"
   ]
  },
  {
   "cell_type": "code",
   "execution_count": null,
   "metadata": {},
   "outputs": [],
   "source": [
    "population_size = 1000\n",
    "initial_solution = create_population(population_size, max_truck, max_helicopter, supplies, demands)[0]\n",
    "num_iterations = 1000\n",
    "max_temperature = 10\n",
    "\n",
    "best_individual = simulated_annealing(initial_solution, max_truck, max_helicopter, supplies, demands,\n",
    "                                     num_iterations, max_temperature)"
   ]
  },
  {
   "cell_type": "markdown",
   "metadata": {},
   "source": [
    "## Results"
   ]
  },
  {
   "cell_type": "code",
   "execution_count": null,
   "metadata": {},
   "outputs": [],
   "source": [
    "print(\"Best Individual (Truck):\\n\", best_individual[0], \"\\n\")\n",
    "print(\"Best Individual (Helicopter):\\n\", best_individual[1])\n",
    "print(\"Best Fitness:\", -fitness_function(best_individual))"
   ]
  }
 ],
 "metadata": {
  "kernelspec": {
   "display_name": "Python 3 (ipykernel)",
   "language": "python",
   "name": "python3"
  },
  "language_info": {
   "codemirror_mode": {
    "name": "ipython",
    "version": 3
   },
   "file_extension": ".py",
   "mimetype": "text/x-python",
   "name": "python",
   "nbconvert_exporter": "python",
   "pygments_lexer": "ipython3",
   "version": "3.9.12"
  }
 },
 "nbformat": 4,
 "nbformat_minor": 2
}
