{
 "cells": [
  {
   "cell_type": "code",
   "execution_count": 17,
   "metadata": {
    "_cell_guid": "b1076dfc-b9ad-4769-8c92-a6c4dae69d19",
    "_uuid": "8f2839f25d086af736a60e9eeb907d3b93b6e0e5"
   },
   "outputs": [],
   "source": [
    "import numpy as np\n",
    "import random\n",
    "import operator\n",
    "import pandas as pd\n",
    "import matplotlib.pyplot as plt"
   ]
  },
  {
   "cell_type": "code",
   "execution_count": 18,
   "metadata": {
    "_cell_guid": "79c7e3d0-c299-4dcb-8224-4455121ee9b0",
    "_uuid": "d629ff2d2480ee46fbb7e2d37f6b5fab8052498a"
   },
   "outputs": [],
   "source": [
    "class City:\n",
    "    \n",
    "    def __init__(self,x,y):\n",
    "        self.x = x\n",
    "        self.y = y\n",
    "        \n",
    "    def distance(self,city):\n",
    "        xDis = abs(self.x - city.x)\n",
    "        yDis = abs(self.y - city.y)\n",
    "        distance = np.sqrt((xDis ** 2) + (yDis ** 2))\n",
    "        return distance\n",
    "    \n",
    "    def __repr__(self):\n",
    "        return \"(\"+str(self.x)+\",\"+str(self.y)+\")\"        \n",
    "\n"
   ]
  },
  {
   "cell_type": "code",
   "execution_count": 19,
   "metadata": {
    "_uuid": "f4b3eef1f725f479165dfed50051c9009fdea4b5"
   },
   "outputs": [],
   "source": [
    "def createRoute(cityList):\n",
    "  route = random.sample(cityList, len(cityList))\n",
    "  return route"
   ]
  },
  {
   "cell_type": "code",
   "execution_count": 20,
   "metadata": {
    "_uuid": "f73e342c26ee01ac96e595206b5f5411f11e1cce"
   },
   "outputs": [],
   "source": [
    "class Fitness:\n",
    "    def __init__(self,route):\n",
    "        self.route = route\n",
    "        self.distance = 0\n",
    "        self.fitness = 0.0\n",
    "        \n",
    "    def routeDistance(self):\n",
    "        if self.distance == 0:\n",
    "            pathDistance = 0\n",
    "            for i in range(0, len(self.route)):\n",
    "                fromCity = self.route[i]\n",
    "                toCity = None\n",
    "                if i + 1 < len(self.route):\n",
    "                    toCity = self.route[i+1]\n",
    "                else:\n",
    "                    toCity = self.route[0]\n",
    "                pathDistance += fromCity.distance(toCity)\n",
    "            self.distance = pathDistance\n",
    "        return self.distance\n",
    "    \n",
    "    def routeFitness(self):\n",
    "        if self.fitness == 0:\n",
    "            self.fitness = 1 / float(self.routeDistance())\n",
    "        return self.fitness"
   ]
  },
  {
   "cell_type": "code",
   "execution_count": 21,
   "metadata": {
    "_uuid": "903127f697a17f2c0a53ea98d526fdb6d84552e5"
   },
   "outputs": [],
   "source": [
    "\n",
    "def initialPopulation(popSize, cityList):\n",
    "    population = []\n",
    "    \n",
    "    for i in range(0, popSize):\n",
    "        population.append(createRoute(cityList))\n",
    "    return population\n"
   ]
  },
  {
   "cell_type": "code",
   "execution_count": 22,
   "metadata": {
    "_uuid": "39fb58d45c9ad72de9b52cf01517d75a311cc721"
   },
   "outputs": [],
   "source": [
    "def rankRoutes(population):\n",
    "    fitnessResults = {}\n",
    "    for i in range(0,len(population)):\n",
    "        fitnessResults[i] = Fitness(population[i]).routeFitness()\n",
    "    return sorted(fitnessResults.items(),key = operator.itemgetter(1), reverse= True)\n"
   ]
  },
  {
   "cell_type": "code",
   "execution_count": 23,
   "metadata": {
    "_uuid": "e42098e176c1a3780f84bdbee80e6966fd96a040"
   },
   "outputs": [],
   "source": [
    "def selection(popRanked, eliteSize):\n",
    "    selectionResults = []\n",
    "    df = pd.DataFrame(np.array(popRanked), columns=[\"Index\",\"Fitness\"])\n",
    "    df['cum_sum'] = df.Fitness.cumsum()\n",
    "    df['cum_perc'] = 100*df.cum_sum/df.Fitness.sum()\n",
    "    \n",
    "    \n",
    "    for i in range(0,eliteSize):\n",
    "        selectionResults.append(popRanked[i][0])\n",
    "    for i in range(0,len(popRanked)-eliteSize):\n",
    "        pick = 100*random.random()\n",
    "        for i in range(0,len(popRanked)):\n",
    "            if pick <= df.iat[i,3]:\n",
    "                selectionResults.append(popRanked[i][0])\n",
    "                break\n",
    "            \n",
    "    return selectionResults\n"
   ]
  },
  {
   "cell_type": "code",
   "execution_count": 24,
   "metadata": {
    "_uuid": "f39e74892d78830889fb5506970aff7b37edd0ed"
   },
   "outputs": [],
   "source": [
    "\n",
    "def matingPool(population,selectionResults):\n",
    "    matingpool = []\n",
    "    \n",
    "    for i in range(0,len(selectionResults)):\n",
    "        index = selectionResults[i]\n",
    "        matingpool.append(population[index])\n",
    "        \n",
    "    return matingpool"
   ]
  },
  {
   "cell_type": "code",
   "execution_count": 25,
   "metadata": {
    "_uuid": "58bf9cfa49c69cf050a858747beed7cfdbd79de9"
   },
   "outputs": [],
   "source": [
    "def breed(parent1, parent2):\n",
    "    child = []\n",
    "    childP1 = []\n",
    "    childP2 = []\n",
    "    \n",
    "    geneA = int(random.random()*len(parent1))\n",
    "    geneB = int(random.random()*len(parent2))\n",
    "    \n",
    "    startGene = min(geneA, geneB)   \n",
    "    endGene = max(geneA, geneB)\n",
    "    \n",
    "    for i in range(startGene,endGene):\n",
    "        childP1.append(parent1[i])\n",
    "        \n",
    "    childP2 = [item for item in parent2 if item not in childP1]\n",
    "    \n",
    "    child = childP1 + childP2\n",
    "    \n",
    "    return child\n"
   ]
  },
  {
   "cell_type": "code",
   "execution_count": 26,
   "metadata": {
    "_uuid": "1d42ae135b608bacb10f81f6f4acaf513ba1b1dc"
   },
   "outputs": [],
   "source": [
    "def breedPopulation(matingpool, eliteSize):\n",
    "    children = []\n",
    "    length = len(matingpool) - eliteSize\n",
    "    pool = random.sample(matingpool, len(matingpool))\n",
    "    \n",
    "    for i in range(0,eliteSize):\n",
    "        children.append(matingpool[i])\n",
    "        \n",
    "    for i in range(0, length):\n",
    "        child = breed(pool[i],pool[len(matingpool)-i-1])\n",
    "        children.append(child)\n",
    "    return children\n"
   ]
  },
  {
   "cell_type": "code",
   "execution_count": 27,
   "metadata": {
    "_uuid": "9442cd03f42cad207791719afbe5474a8418453e"
   },
   "outputs": [],
   "source": [
    "def mutate(individual, mutationRate):\n",
    "    for swapped in range(len(individual)):\n",
    "        if(random.random() < mutationRate):\n",
    "            swapWith = int(random.random()*len(individual))\n",
    "            \n",
    "            city1 = individual[swapped]\n",
    "            city2 = individual[swapWith]\n",
    "            \n",
    "            individual[swapped] = city2\n",
    "            individual[swapWith] = city1\n",
    "    \n",
    "    return individual\n"
   ]
  },
  {
   "cell_type": "code",
   "execution_count": 28,
   "metadata": {
    "_uuid": "f4c5cc2dfbc11db36bb4e8bfe7c92bd61267075d"
   },
   "outputs": [],
   "source": [
    "def mutatePopulation(population, mutationRate):\n",
    "    mutatedPop = []\n",
    "    \n",
    "    for ind in range(0, len(population)):\n",
    "        mutatedInd = mutate(population[ind],mutationRate)\n",
    "        mutatedPop.append(mutatedInd)\n",
    "    return mutatedPop\n"
   ]
  },
  {
   "cell_type": "code",
   "execution_count": 29,
   "metadata": {
    "_uuid": "aa07db42b1592910989f2f3e1e6e4310a4488a37"
   },
   "outputs": [],
   "source": [
    "def nextGeneration(currentGen, eliteSize, mutationRate):\n",
    "    popRanked = rankRoutes(currentGen)\n",
    "    selectionResults = selection(popRanked, eliteSize)\n",
    "    matingpool = matingPool(currentGen, selectionResults)\n",
    "    children = breedPopulation(matingpool, eliteSize)\n",
    "    nextGeneration = mutatePopulation(children, mutationRate)\n",
    "    return nextGeneration\n"
   ]
  },
  {
   "cell_type": "code",
   "execution_count": 30,
   "metadata": {
    "_uuid": "267982fc0ab5dca4f33aecace4ae35e3c0af374a"
   },
   "outputs": [],
   "source": [
    "def geneticAlgorithm(population, popSize, eliteSize, mutationRate, generations):\n",
    "    pop  = initialPopulation(popSize, population)\n",
    "    print(\"Initial distance: \" + str(1/rankRoutes(pop)[0][1]))\n",
    "    \n",
    "    for i in range(0,generations):\n",
    "        pop = nextGeneration(pop, eliteSize, mutationRate)\n",
    "        \n",
    "    print(\"Final distance: \" + str(1/rankRoutes(pop)[0][1]))\n",
    "    bestRouteIndex = rankRoutes(pop)[0][0]\n",
    "    bestRoute = pop[bestRouteIndex]\n",
    "    return bestRoute\n",
    "\n"
   ]
  },
  {
   "cell_type": "code",
   "execution_count": null,
   "metadata": {},
   "outputs": [],
   "source": [
    "def calculate_transportation_costs(chromosome):\n",
    "    transportation_costs = 0.0\n",
    "\n",
    "    for gene in chromosome.distribution_plan:\n",
    "        distribution_center = gene[\"distribution_center\"]\n",
    "        city = gene[\"city\"]\n",
    "        quantity = gene[\"quantity\"]\n",
    "        transportation_method = gene[\"transportation_method\"]\n",
    "\n",
    "        # Calculate the transportation cost based on distance, road conditions, and petrol availability\n",
    "        # You may have a predefined cost matrix or use external APIs for distance calculations\n",
    "        # Adjust the cost calculation based on your specific scenario and constraints\n",
    "        if transportation_method == \"road\":\n",
    "            distance = calculate_distance(distribution_center, city)\n",
    "            road_condition = get_road_condition(distance)\n",
    "            petrol_availability = check_petrol_availability(distance)\n",
    "            transportation_cost = distance * road_condition * petrol_availability\n",
    "        elif transportation_method == \"helicopter\":\n",
    "            transportation_cost = calculate_helicopter_cost(distribution_center, city)\n",
    "        elif transportation_method == \"boat\":\n",
    "            transportation_cost = calculate_boat_cost(distribution_center, city)\n",
    "        else:\n",
    "            # Handle other transportation methods if applicable\n",
    "\n",
    "        transportation_costs += transportation_cost * quantity\n",
    "\n",
    "    return transportation_costs"
   ]
  },
  {
   "cell_type": "code",
   "execution_count": 31,
   "metadata": {
    "_uuid": "8febb70928fe4369b70129b8ddb1a40c0e066c26"
   },
   "outputs": [],
   "source": [
    "cityList = []\n"
   ]
  },
  {
   "cell_type": "code",
   "execution_count": 32,
   "metadata": {
    "_uuid": "2374da569755d8045810344e6be3861f9a421987"
   },
   "outputs": [
    {
     "name": "stdout",
     "output_type": "stream",
     "text": [
      "Initial distance: 1845.486580039421\n",
      "Final distance: 888.4865515507287\n"
     ]
    },
    {
     "data": {
      "text/plain": [
       "[(144,34),\n",
       " (114,41),\n",
       " (106,52),\n",
       " (106,59),\n",
       " (109,69),\n",
       " (158,58),\n",
       " (153,73),\n",
       " (181,111),\n",
       " (157,164),\n",
       " (91,103),\n",
       " (75,120),\n",
       " (57,194),\n",
       " (55,136),\n",
       " (35,122),\n",
       " (5,51),\n",
       " (37,10),\n",
       " (40,9),\n",
       " (43,26),\n",
       " (48,43),\n",
       " (40,47),\n",
       " (59,59),\n",
       " (73,18),\n",
       " (117,0),\n",
       " (158,3),\n",
       " (165,34)]"
      ]
     },
     "execution_count": 32,
     "metadata": {},
     "output_type": "execute_result"
    }
   ],
   "source": [
    "\n",
    "for i in range(0,25):\n",
    "    cityList.append(City(x = int(random.random()*200), y = int(random.random()*200)))\n",
    "    \n",
    "geneticAlgorithm(population=cityList, popSize=100,eliteSize=20,mutationRate=0.01,generations=500)    \n",
    "\n"
   ]
  },
  {
   "cell_type": "code",
   "execution_count": 33,
   "metadata": {},
   "outputs": [
    {
     "name": "stdout",
     "output_type": "stream",
     "text": [
      "[(40,47), (75,120), (158,58), (5,51), (43,26), (57,194), (73,18), (40,9), (35,122), (55,136), (59,59), (165,34), (48,43), (106,59), (114,41), (106,52), (153,73), (181,111), (109,69), (144,34), (157,164), (117,0), (158,3), (91,103), (37,10)]\n"
     ]
    }
   ],
   "source": [
    "print(cityList)"
   ]
  },
  {
   "cell_type": "code",
   "execution_count": 34,
   "metadata": {
    "_uuid": "400a3fbb5127ce781bfb1fcf116a6f734ab630a2"
   },
   "outputs": [],
   "source": [
    "def geneticAlgorithmPlot(population, popSize, eliteSize, mutationRate, generations):\n",
    "    pop = initialPopulation(popSize,population)\n",
    "    \n",
    "    progress = []\n",
    "    \n",
    "    progress.append(1/rankRoutes(pop)[0][1])\n",
    "    \n",
    "    for i in range(0,generations):\n",
    "        pop = nextGeneration(pop, eliteSize, mutationRate)\n",
    "        progress.append(1/rankRoutes(pop)[0][1])\n",
    "        \n",
    "    plt.plot(progress)\n",
    "    plt.ylabel('Distance')\n",
    "    plt.xlabel('Generation')\n",
    "    plt.show()\n"
   ]
  },
  {
   "cell_type": "code",
   "execution_count": 36,
   "metadata": {},
   "outputs": [],
   "source": [
    "df = pd.read_csv(\"../Datasets/distances.csv\")"
   ]
  },
  {
   "cell_type": "code",
   "execution_count": 37,
   "metadata": {},
   "outputs": [
    {
     "data": {
      "text/html": [
       "<div>\n",
       "<style scoped>\n",
       "    .dataframe tbody tr th:only-of-type {\n",
       "        vertical-align: middle;\n",
       "    }\n",
       "\n",
       "    .dataframe tbody tr th {\n",
       "        vertical-align: top;\n",
       "    }\n",
       "\n",
       "    .dataframe thead th {\n",
       "        text-align: right;\n",
       "    }\n",
       "</style>\n",
       "<table border=\"1\" class=\"dataframe\">\n",
       "  <thead>\n",
       "    <tr style=\"text-align: right;\">\n",
       "      <th></th>\n",
       "      <th>From</th>\n",
       "      <th>To</th>\n",
       "      <th>Distance</th>\n",
       "    </tr>\n",
       "  </thead>\n",
       "  <tbody>\n",
       "    <tr>\n",
       "      <th>0</th>\n",
       "      <td>Adana</td>\n",
       "      <td>Hatay</td>\n",
       "      <td>191</td>\n",
       "    </tr>\n",
       "    <tr>\n",
       "      <th>1</th>\n",
       "      <td>Adana</td>\n",
       "      <td>Mersin</td>\n",
       "      <td>69</td>\n",
       "    </tr>\n",
       "    <tr>\n",
       "      <th>2</th>\n",
       "      <td>Adana</td>\n",
       "      <td>Kayseri</td>\n",
       "      <td>332</td>\n",
       "    </tr>\n",
       "    <tr>\n",
       "      <th>3</th>\n",
       "      <td>Adana</td>\n",
       "      <td>Kahramanmaraş</td>\n",
       "      <td>192</td>\n",
       "    </tr>\n",
       "    <tr>\n",
       "      <th>4</th>\n",
       "      <td>Adana</td>\n",
       "      <td>Niğde</td>\n",
       "      <td>204</td>\n",
       "    </tr>\n",
       "    <tr>\n",
       "      <th>...</th>\n",
       "      <td>...</td>\n",
       "      <td>...</td>\n",
       "      <td>...</td>\n",
       "    </tr>\n",
       "    <tr>\n",
       "      <th>393</th>\n",
       "      <td>Osmaniye</td>\n",
       "      <td>Hatay</td>\n",
       "      <td>129</td>\n",
       "    </tr>\n",
       "    <tr>\n",
       "      <th>394</th>\n",
       "      <td>Osmaniye</td>\n",
       "      <td>Kahramanmaraş</td>\n",
       "      <td>105</td>\n",
       "    </tr>\n",
       "    <tr>\n",
       "      <th>395</th>\n",
       "      <td>Düzce</td>\n",
       "      <td>Bolu</td>\n",
       "      <td>45</td>\n",
       "    </tr>\n",
       "    <tr>\n",
       "      <th>396</th>\n",
       "      <td>Düzce</td>\n",
       "      <td>Sakarya (Adapazarı)</td>\n",
       "      <td>69</td>\n",
       "    </tr>\n",
       "    <tr>\n",
       "      <th>397</th>\n",
       "      <td>Düzce</td>\n",
       "      <td>Zonguldak</td>\n",
       "      <td>113</td>\n",
       "    </tr>\n",
       "  </tbody>\n",
       "</table>\n",
       "<p>398 rows × 3 columns</p>\n",
       "</div>"
      ],
      "text/plain": [
       "         From                   To  Distance\n",
       "0       Adana                Hatay       191\n",
       "1       Adana               Mersin        69\n",
       "2       Adana              Kayseri       332\n",
       "3       Adana        Kahramanmaraş       192\n",
       "4       Adana                Niğde       204\n",
       "..        ...                  ...       ...\n",
       "393  Osmaniye                Hatay       129\n",
       "394  Osmaniye        Kahramanmaraş       105\n",
       "395     Düzce                 Bolu        45\n",
       "396     Düzce  Sakarya (Adapazarı)        69\n",
       "397     Düzce            Zonguldak       113\n",
       "\n",
       "[398 rows x 3 columns]"
      ]
     },
     "execution_count": 37,
     "metadata": {},
     "output_type": "execute_result"
    }
   ],
   "source": [
    "df"
   ]
  },
  {
   "cell_type": "code",
   "execution_count": null,
   "metadata": {},
   "outputs": [],
   "source": []
  },
  {
   "cell_type": "code",
   "execution_count": 35,
   "metadata": {
    "_uuid": "502dbf68184957e550d9fea2d5f3f3642238fc70"
   },
   "outputs": [
    {
     "data": {
      "image/png": "[encoded data removed]",
      "text/plain": [
       "<Figure size 432x288 with 1 Axes>"
      ]
     },
     "metadata": {
      "needs_background": "light"
     },
     "output_type": "display_data"
    }
   ],
   "source": [
    "geneticAlgorithmPlot(population=cityList, popSize=100, eliteSize=20, mutationRate=0.01, generations=500)\n",
    "\n"
   ]
  },
  {
   "cell_type": "code",
   "execution_count": null,
   "metadata": {},
   "outputs": [],
   "source": [
    "def create_population(size, bounds):\n",
    "    population = []\n",
    "    for _ in range(size):\n",
    "        individual = [random.uniform(bounds[0], bounds[1]), random.uniform(bounds[0], bounds[1])]\n",
    "        population.append(individual)\n",
    "    return population\n",
    "\n",
    "def fitness_function(individual, f):\n",
    "    x, y = individual\n",
    "    return f(x, y)\n",
    "\n",
    "def selection(population, num_parents):\n",
    "    parents = []\n",
    "    for _ in range(num_parents):\n",
    "        selected = random.choice(population)\n",
    "        parents.append(selected)\n",
    "    return parents\n",
    "\n",
    "def crossover(parents, num_offspring):\n",
    "    offspring = []\n",
    "    for _ in range(num_offspring):\n",
    "        parent1, parent2 = random.sample(parents, 2)\n",
    "        child = [parent1[0], parent2[1]]  \n",
    "        offspring.append(child)\n",
    "    return offspring\n",
    "\n",
    "def mutation(offspring, mutation_rate, bounds):\n",
    "    for child in offspring:\n",
    "        if random.random() < mutation_rate:\n",
    "            child[0] = random.uniform(bounds[0], bounds[1])  \n",
    "            child[1] = random.uniform(bounds[0], bounds[1])  \n",
    "\n",
    "def genetic_algorithm(bounds, population_size, num_generations, num_parents, num_offspring, mutation_rate, f):\n",
    "    population = create_population(population_size, bounds)\n",
    "\n",
    "    for _ in range(num_generations):\n",
    "        parents = selection(population, num_parents)\n",
    "        offspring = crossover(parents, num_offspring)\n",
    "        mutation(offspring, mutation_rate, bounds)\n",
    "\n",
    "        population = parents + offspring\n",
    "\n",
    "        fitness_values = [fitness_function(individual, f) for individual in population]\n",
    "\n",
    "        best_fitness = min(fitness_values)\n",
    "        best_individual = population[fitness_values.index(best_fitness)]\n",
    "\n",
    "    return best_individual, population\n",
    "\n",
    "bounds = (-1.0, 1.0)\n",
    "population_size = 100\n",
    "num_generations = 50\n",
    "num_parents = 50\n",
    "num_offspring = 50\n",
    "mutation_rate = 0.1"
   ]
  }
 ],
 "metadata": {
  "kernelspec": {
   "display_name": "Python 3 (ipykernel)",
   "language": "python",
   "name": "python3"
  },
  "language_info": {
   "codemirror_mode": {
    "name": "ipython",
    "version": 3
   },
   "file_extension": ".py",
   "mimetype": "text/x-python",
   "name": "python",
   "nbconvert_exporter": "python",
   "pygments_lexer": "ipython3",
   "version": "3.9.12"
  }
 },
 "nbformat": 4,
 "nbformat_minor": 1
}
