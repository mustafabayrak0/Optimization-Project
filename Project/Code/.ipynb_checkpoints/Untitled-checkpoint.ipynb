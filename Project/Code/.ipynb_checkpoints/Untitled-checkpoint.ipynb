{
 "cells": [
  {
   "cell_type": "code",
   "execution_count": 361,
   "id": "aedc0145",
   "metadata": {},
   "outputs": [
    {
     "name": "stdout",
     "output_type": "stream",
     "text": [
      "Requirement already satisfied: pulp in c:\\users\\hp\\anaconda3\\lib\\site-packages (2.7.0)\n",
      "Note: you may need to restart the kernel to use updated packages.\n"
     ]
    }
   ],
   "source": [
    "pip install pulp"
   ]
  },
  {
   "cell_type": "code",
   "execution_count": 362,
   "id": "b7be4a23",
   "metadata": {},
   "outputs": [],
   "source": [
    "import pandas as pd\n",
    "import numpy as np"
   ]
  },
  {
   "cell_type": "code",
   "execution_count": 363,
   "id": "3a1aea84",
   "metadata": {},
   "outputs": [],
   "source": [
    "distances = pd.read_excel(\"../Datasets/ilmesafe.xlsx\")"
   ]
  },
  {
   "cell_type": "code",
   "execution_count": 364,
   "id": "397889e7",
   "metadata": {},
   "outputs": [],
   "source": [
    "df = pd.read_excel(\"../Datasets/cities.xlsx\")"
   ]
  },
  {
   "cell_type": "code",
   "execution_count": 365,
   "id": "9609d8b6",
   "metadata": {},
   "outputs": [],
   "source": [
    "dist_center_names = df[df[\"Dist\"]==1][\"Name\"].str.title().to_list()\n",
    "dist_centers = df[df[\"Dist\"]==1][\"Population\"]"
   ]
  },
  {
   "cell_type": "code",
   "execution_count": 366,
   "id": "952d93c8",
   "metadata": {},
   "outputs": [],
   "source": [
    "affected_cities = df[df[\"Affected\"]==1][\"Name\"].to_list()"
   ]
  },
  {
   "cell_type": "code",
   "execution_count": 367,
   "id": "7d8e4088",
   "metadata": {},
   "outputs": [
    {
     "data": {
      "text/html": [
       "<div>\n",
       "<style scoped>\n",
       "    .dataframe tbody tr th:only-of-type {\n",
       "        vertical-align: middle;\n",
       "    }\n",
       "\n",
       "    .dataframe tbody tr th {\n",
       "        vertical-align: top;\n",
       "    }\n",
       "\n",
       "    .dataframe thead th {\n",
       "        text-align: right;\n",
       "    }\n",
       "</style>\n",
       "<table border=\"1\" class=\"dataframe\">\n",
       "  <thead>\n",
       "    <tr style=\"text-align: right;\">\n",
       "      <th></th>\n",
       "      <th>Name</th>\n",
       "      <th>Adana</th>\n",
       "      <th>Adıyaman</th>\n",
       "      <th>Afyonkarahisar</th>\n",
       "      <th>Ağrı</th>\n",
       "      <th>Amasya</th>\n",
       "      <th>Ankara</th>\n",
       "      <th>Antalya</th>\n",
       "      <th>Artvin</th>\n",
       "      <th>Aydın</th>\n",
       "      <th>...</th>\n",
       "      <th>Batman</th>\n",
       "      <th>Şırnak</th>\n",
       "      <th>Bartın</th>\n",
       "      <th>Ardahan</th>\n",
       "      <th>Iğdır</th>\n",
       "      <th>Yalova</th>\n",
       "      <th>Karabük</th>\n",
       "      <th>Kilis</th>\n",
       "      <th>Osmaniye</th>\n",
       "      <th>Düzce</th>\n",
       "    </tr>\n",
       "  </thead>\n",
       "  <tbody>\n",
       "    <tr>\n",
       "      <th>0</th>\n",
       "      <td>Adana</td>\n",
       "      <td>NaN</td>\n",
       "      <td>337.0</td>\n",
       "      <td>578.0</td>\n",
       "      <td>973.0</td>\n",
       "      <td>603.0</td>\n",
       "      <td>492.0</td>\n",
       "      <td>547.0</td>\n",
       "      <td>1001.0</td>\n",
       "      <td>880.0</td>\n",
       "      <td>...</td>\n",
       "      <td>628.0</td>\n",
       "      <td>712.0</td>\n",
       "      <td>784.0</td>\n",
       "      <td>1037.0</td>\n",
       "      <td>1077.0</td>\n",
       "      <td>905.0</td>\n",
       "      <td>714.0</td>\n",
       "      <td>251.0</td>\n",
       "      <td>89.0</td>\n",
       "      <td>735.0</td>\n",
       "    </tr>\n",
       "    <tr>\n",
       "      <th>1</th>\n",
       "      <td>Adıyaman</td>\n",
       "      <td>337.0</td>\n",
       "      <td>NaN</td>\n",
       "      <td>915.0</td>\n",
       "      <td>642.0</td>\n",
       "      <td>627.0</td>\n",
       "      <td>732.0</td>\n",
       "      <td>884.0</td>\n",
       "      <td>715.0</td>\n",
       "      <td>1217.0</td>\n",
       "      <td>...</td>\n",
       "      <td>297.0</td>\n",
       "      <td>464.0</td>\n",
       "      <td>1016.0</td>\n",
       "      <td>751.0</td>\n",
       "      <td>746.0</td>\n",
       "      <td>1137.0</td>\n",
       "      <td>946.0</td>\n",
       "      <td>210.0</td>\n",
       "      <td>244.0</td>\n",
       "      <td>966.0</td>\n",
       "    </tr>\n",
       "    <tr>\n",
       "      <th>2</th>\n",
       "      <td>Afyonkarahisar</td>\n",
       "      <td>578.0</td>\n",
       "      <td>915.0</td>\n",
       "      <td>NaN</td>\n",
       "      <td>1320.0</td>\n",
       "      <td>596.0</td>\n",
       "      <td>255.0</td>\n",
       "      <td>287.0</td>\n",
       "      <td>1224.0</td>\n",
       "      <td>340.0</td>\n",
       "      <td>...</td>\n",
       "      <td>1207.0</td>\n",
       "      <td>1290.0</td>\n",
       "      <td>518.0</td>\n",
       "      <td>1361.0</td>\n",
       "      <td>1464.0</td>\n",
       "      <td>346.0</td>\n",
       "      <td>449.0</td>\n",
       "      <td>830.0</td>\n",
       "      <td>667.0</td>\n",
       "      <td>371.0</td>\n",
       "    </tr>\n",
       "    <tr>\n",
       "      <th>3</th>\n",
       "      <td>Ağrı</td>\n",
       "      <td>973.0</td>\n",
       "      <td>642.0</td>\n",
       "      <td>1320.0</td>\n",
       "      <td>NaN</td>\n",
       "      <td>740.0</td>\n",
       "      <td>1055.0</td>\n",
       "      <td>1424.0</td>\n",
       "      <td>364.0</td>\n",
       "      <td>1634.0</td>\n",
       "      <td>...</td>\n",
       "      <td>365.0</td>\n",
       "      <td>424.0</td>\n",
       "      <td>1171.0</td>\n",
       "      <td>305.0</td>\n",
       "      <td>144.0</td>\n",
       "      <td>1363.0</td>\n",
       "      <td>1106.0</td>\n",
       "      <td>812.0</td>\n",
       "      <td>880.0</td>\n",
       "      <td>1192.0</td>\n",
       "    </tr>\n",
       "    <tr>\n",
       "      <th>4</th>\n",
       "      <td>Amasya</td>\n",
       "      <td>603.0</td>\n",
       "      <td>627.0</td>\n",
       "      <td>596.0</td>\n",
       "      <td>740.0</td>\n",
       "      <td>NaN</td>\n",
       "      <td>331.0</td>\n",
       "      <td>823.0</td>\n",
       "      <td>679.0</td>\n",
       "      <td>935.0</td>\n",
       "      <td>...</td>\n",
       "      <td>805.0</td>\n",
       "      <td>998.0</td>\n",
       "      <td>436.0</td>\n",
       "      <td>781.0</td>\n",
       "      <td>884.0</td>\n",
       "      <td>629.0</td>\n",
       "      <td>371.0</td>\n",
       "      <td>640.0</td>\n",
       "      <td>603.0</td>\n",
       "      <td>458.0</td>\n",
       "    </tr>\n",
       "  </tbody>\n",
       "</table>\n",
       "<p>5 rows × 82 columns</p>\n",
       "</div>"
      ],
      "text/plain": [
       "             Name  Adana  Adıyaman  Afyonkarahisar    Ağrı  Amasya  Ankara  \\\n",
       "0           Adana    NaN     337.0           578.0   973.0   603.0   492.0   \n",
       "1        Adıyaman  337.0       NaN           915.0   642.0   627.0   732.0   \n",
       "2  Afyonkarahisar  578.0     915.0             NaN  1320.0   596.0   255.0   \n",
       "3            Ağrı  973.0     642.0          1320.0     NaN   740.0  1055.0   \n",
       "4          Amasya  603.0     627.0           596.0   740.0     NaN   331.0   \n",
       "\n",
       "   Antalya  Artvin   Aydın  ...  Batman  Şırnak  Bartın  Ardahan   Iğdır  \\\n",
       "0    547.0  1001.0   880.0  ...   628.0   712.0   784.0   1037.0  1077.0   \n",
       "1    884.0   715.0  1217.0  ...   297.0   464.0  1016.0    751.0   746.0   \n",
       "2    287.0  1224.0   340.0  ...  1207.0  1290.0   518.0   1361.0  1464.0   \n",
       "3   1424.0   364.0  1634.0  ...   365.0   424.0  1171.0    305.0   144.0   \n",
       "4    823.0   679.0   935.0  ...   805.0   998.0   436.0    781.0   884.0   \n",
       "\n",
       "   Yalova  Karabük  Kilis  Osmaniye   Düzce  \n",
       "0   905.0    714.0  251.0      89.0   735.0  \n",
       "1  1137.0    946.0  210.0     244.0   966.0  \n",
       "2   346.0    449.0  830.0     667.0   371.0  \n",
       "3  1363.0   1106.0  812.0     880.0  1192.0  \n",
       "4   629.0    371.0  640.0     603.0   458.0  \n",
       "\n",
       "[5 rows x 82 columns]"
      ]
     },
     "execution_count": 367,
     "metadata": {},
     "output_type": "execute_result"
    }
   ],
   "source": [
    "distances.head()"
   ]
  },
  {
   "cell_type": "code",
   "execution_count": 368,
   "id": "ad408772",
   "metadata": {},
   "outputs": [
    {
     "name": "stderr",
     "output_type": "stream",
     "text": [
      "C:\\Users\\Hp\\AppData\\Local\\Temp\\ipykernel_20108\\3896158377.py:8: FutureWarning: The frame.append method is deprecated and will be removed from pandas in a future version. Use pandas.concat instead.\n",
      "  new_df = new_df.append(row)\n",
      "C:\\Users\\Hp\\AppData\\Local\\Temp\\ipykernel_20108\\3896158377.py:8: FutureWarning: The frame.append method is deprecated and will be removed from pandas in a future version. Use pandas.concat instead.\n",
      "  new_df = new_df.append(row)\n",
      "C:\\Users\\Hp\\AppData\\Local\\Temp\\ipykernel_20108\\3896158377.py:8: FutureWarning: The frame.append method is deprecated and will be removed from pandas in a future version. Use pandas.concat instead.\n",
      "  new_df = new_df.append(row)\n",
      "C:\\Users\\Hp\\AppData\\Local\\Temp\\ipykernel_20108\\3896158377.py:8: FutureWarning: The frame.append method is deprecated and will be removed from pandas in a future version. Use pandas.concat instead.\n",
      "  new_df = new_df.append(row)\n",
      "C:\\Users\\Hp\\AppData\\Local\\Temp\\ipykernel_20108\\3896158377.py:8: FutureWarning: The frame.append method is deprecated and will be removed from pandas in a future version. Use pandas.concat instead.\n",
      "  new_df = new_df.append(row)\n",
      "C:\\Users\\Hp\\AppData\\Local\\Temp\\ipykernel_20108\\3896158377.py:8: FutureWarning: The frame.append method is deprecated and will be removed from pandas in a future version. Use pandas.concat instead.\n",
      "  new_df = new_df.append(row)\n",
      "C:\\Users\\Hp\\AppData\\Local\\Temp\\ipykernel_20108\\3896158377.py:8: FutureWarning: The frame.append method is deprecated and will be removed from pandas in a future version. Use pandas.concat instead.\n",
      "  new_df = new_df.append(row)\n",
      "C:\\Users\\Hp\\AppData\\Local\\Temp\\ipykernel_20108\\3896158377.py:8: FutureWarning: The frame.append method is deprecated and will be removed from pandas in a future version. Use pandas.concat instead.\n",
      "  new_df = new_df.append(row)\n",
      "C:\\Users\\Hp\\AppData\\Local\\Temp\\ipykernel_20108\\3896158377.py:8: FutureWarning: The frame.append method is deprecated and will be removed from pandas in a future version. Use pandas.concat instead.\n",
      "  new_df = new_df.append(row)\n",
      "C:\\Users\\Hp\\AppData\\Local\\Temp\\ipykernel_20108\\3896158377.py:8: FutureWarning: The frame.append method is deprecated and will be removed from pandas in a future version. Use pandas.concat instead.\n",
      "  new_df = new_df.append(row)\n"
     ]
    }
   ],
   "source": [
    "# Create a new dataframe\n",
    "new_df = pd.DataFrame(columns=distances.columns)\n",
    "\n",
    "# Iterate over each row in the original dataframe\n",
    "for index, row in distances.iterrows():\n",
    "    if row['Name'] in dist_center_names:\n",
    "        # Append the row to the new dataframe\n",
    "        new_df = new_df.append(row)"
   ]
  },
  {
   "cell_type": "code",
   "execution_count": 369,
   "id": "e7bf9319",
   "metadata": {},
   "outputs": [],
   "source": [
    "distance_df = new_df[affected_cities]"
   ]
  },
  {
   "cell_type": "code",
   "execution_count": 370,
   "id": "8116ef17",
   "metadata": {},
   "outputs": [
    {
     "data": {
      "text/html": [
       "<div>\n",
       "<style scoped>\n",
       "    .dataframe tbody tr th:only-of-type {\n",
       "        vertical-align: middle;\n",
       "    }\n",
       "\n",
       "    .dataframe tbody tr th {\n",
       "        vertical-align: top;\n",
       "    }\n",
       "\n",
       "    .dataframe thead th {\n",
       "        text-align: right;\n",
       "    }\n",
       "</style>\n",
       "<table border=\"1\" class=\"dataframe\">\n",
       "  <thead>\n",
       "    <tr style=\"text-align: right;\">\n",
       "      <th></th>\n",
       "      <th>Adana</th>\n",
       "      <th>Şanlıurfa</th>\n",
       "      <th>Gaziantep</th>\n",
       "      <th>Diyarbakır</th>\n",
       "      <th>Hatay</th>\n",
       "      <th>Kahramanmaraş</th>\n",
       "      <th>Malatya</th>\n",
       "      <th>Adıyaman</th>\n",
       "      <th>Elazığ</th>\n",
       "      <th>Osmaniye</th>\n",
       "      <th>Kilis</th>\n",
       "    </tr>\n",
       "  </thead>\n",
       "  <tbody>\n",
       "    <tr>\n",
       "      <th>5</th>\n",
       "      <td>492.0</td>\n",
       "      <td>786.0</td>\n",
       "      <td>647.0</td>\n",
       "      <td>898.0</td>\n",
       "      <td>688.0</td>\n",
       "      <td>572.0</td>\n",
       "      <td>652.0</td>\n",
       "      <td>732.0</td>\n",
       "      <td>749.0</td>\n",
       "      <td>581.0</td>\n",
       "      <td>711.0</td>\n",
       "    </tr>\n",
       "    <tr>\n",
       "      <th>6</th>\n",
       "      <td>547.0</td>\n",
       "      <td>902.0</td>\n",
       "      <td>763.0</td>\n",
       "      <td>1084.0</td>\n",
       "      <td>743.0</td>\n",
       "      <td>744.0</td>\n",
       "      <td>953.0</td>\n",
       "      <td>884.0</td>\n",
       "      <td>1051.0</td>\n",
       "      <td>636.0</td>\n",
       "      <td>798.0</td>\n",
       "    </tr>\n",
       "    <tr>\n",
       "      <th>15</th>\n",
       "      <td>856.0</td>\n",
       "      <td>1158.0</td>\n",
       "      <td>1020.0</td>\n",
       "      <td>1270.0</td>\n",
       "      <td>1052.0</td>\n",
       "      <td>944.0</td>\n",
       "      <td>1024.0</td>\n",
       "      <td>1104.0</td>\n",
       "      <td>1121.0</td>\n",
       "      <td>945.0</td>\n",
       "      <td>1083.0</td>\n",
       "    </tr>\n",
       "    <tr>\n",
       "      <th>32</th>\n",
       "      <td>70.0</td>\n",
       "      <td>424.0</td>\n",
       "      <td>286.0</td>\n",
       "      <td>606.0</td>\n",
       "      <td>265.0</td>\n",
       "      <td>267.0</td>\n",
       "      <td>466.0</td>\n",
       "      <td>407.0</td>\n",
       "      <td>564.0</td>\n",
       "      <td>159.0</td>\n",
       "      <td>321.0</td>\n",
       "    </tr>\n",
       "    <tr>\n",
       "      <th>33</th>\n",
       "      <td>951.0</td>\n",
       "      <td>1237.0</td>\n",
       "      <td>1098.0</td>\n",
       "      <td>1349.0</td>\n",
       "      <td>1147.0</td>\n",
       "      <td>1023.0</td>\n",
       "      <td>1103.0</td>\n",
       "      <td>1183.0</td>\n",
       "      <td>1200.0</td>\n",
       "      <td>1040.0</td>\n",
       "      <td>1162.0</td>\n",
       "    </tr>\n",
       "    <tr>\n",
       "      <th>34</th>\n",
       "      <td>907.0</td>\n",
       "      <td>1261.0</td>\n",
       "      <td>1123.0</td>\n",
       "      <td>1436.0</td>\n",
       "      <td>1102.0</td>\n",
       "      <td>1104.0</td>\n",
       "      <td>1190.0</td>\n",
       "      <td>1244.0</td>\n",
       "      <td>1287.0</td>\n",
       "      <td>995.0</td>\n",
       "      <td>1158.0</td>\n",
       "    </tr>\n",
       "    <tr>\n",
       "      <th>37</th>\n",
       "      <td>335.0</td>\n",
       "      <td>468.0</td>\n",
       "      <td>330.0</td>\n",
       "      <td>581.0</td>\n",
       "      <td>428.0</td>\n",
       "      <td>255.0</td>\n",
       "      <td>335.0</td>\n",
       "      <td>414.0</td>\n",
       "      <td>432.0</td>\n",
       "      <td>356.0</td>\n",
       "      <td>393.0</td>\n",
       "    </tr>\n",
       "    <tr>\n",
       "      <th>40</th>\n",
       "      <td>840.0</td>\n",
       "      <td>1127.0</td>\n",
       "      <td>988.0</td>\n",
       "      <td>1239.0</td>\n",
       "      <td>1036.0</td>\n",
       "      <td>913.0</td>\n",
       "      <td>993.0</td>\n",
       "      <td>1072.0</td>\n",
       "      <td>1090.0</td>\n",
       "      <td>929.0</td>\n",
       "      <td>1051.0</td>\n",
       "    </tr>\n",
       "    <tr>\n",
       "      <th>41</th>\n",
       "      <td>357.0</td>\n",
       "      <td>712.0</td>\n",
       "      <td>573.0</td>\n",
       "      <td>887.0</td>\n",
       "      <td>553.0</td>\n",
       "      <td>555.0</td>\n",
       "      <td>641.0</td>\n",
       "      <td>695.0</td>\n",
       "      <td>738.0</td>\n",
       "      <td>446.0</td>\n",
       "      <td>609.0</td>\n",
       "    </tr>\n",
       "    <tr>\n",
       "      <th>44</th>\n",
       "      <td>886.0</td>\n",
       "      <td>1240.0</td>\n",
       "      <td>1102.0</td>\n",
       "      <td>1415.0</td>\n",
       "      <td>1081.0</td>\n",
       "      <td>1083.0</td>\n",
       "      <td>1169.0</td>\n",
       "      <td>1223.0</td>\n",
       "      <td>1266.0</td>\n",
       "      <td>974.0</td>\n",
       "      <td>1137.0</td>\n",
       "    </tr>\n",
       "  </tbody>\n",
       "</table>\n",
       "</div>"
      ],
      "text/plain": [
       "    Adana Şanlıurfa Gaziantep Diyarbakır   Hatay Kahramanmaraş Malatya  \\\n",
       "5   492.0     786.0     647.0      898.0   688.0         572.0   652.0   \n",
       "6   547.0     902.0     763.0     1084.0   743.0         744.0   953.0   \n",
       "15  856.0    1158.0    1020.0     1270.0  1052.0         944.0  1024.0   \n",
       "32   70.0     424.0     286.0      606.0   265.0         267.0   466.0   \n",
       "33  951.0    1237.0    1098.0     1349.0  1147.0        1023.0  1103.0   \n",
       "34  907.0    1261.0    1123.0     1436.0  1102.0        1104.0  1190.0   \n",
       "37  335.0     468.0     330.0      581.0   428.0         255.0   335.0   \n",
       "40  840.0    1127.0     988.0     1239.0  1036.0         913.0   993.0   \n",
       "41  357.0     712.0     573.0      887.0   553.0         555.0   641.0   \n",
       "44  886.0    1240.0    1102.0     1415.0  1081.0        1083.0  1169.0   \n",
       "\n",
       "   Adıyaman  Elazığ Osmaniye   Kilis  \n",
       "5     732.0   749.0    581.0   711.0  \n",
       "6     884.0  1051.0    636.0   798.0  \n",
       "15   1104.0  1121.0    945.0  1083.0  \n",
       "32    407.0   564.0    159.0   321.0  \n",
       "33   1183.0  1200.0   1040.0  1162.0  \n",
       "34   1244.0  1287.0    995.0  1158.0  \n",
       "37    414.0   432.0    356.0   393.0  \n",
       "40   1072.0  1090.0    929.0  1051.0  \n",
       "41    695.0   738.0    446.0   609.0  \n",
       "44   1223.0  1266.0    974.0  1137.0  "
      ]
     },
     "execution_count": 370,
     "metadata": {},
     "output_type": "execute_result"
    }
   ],
   "source": [
    "distance_df"
   ]
  },
  {
   "cell_type": "code",
   "execution_count": 371,
   "id": "536923af",
   "metadata": {},
   "outputs": [
    {
     "data": {
      "text/plain": [
       "0     15462452\n",
       "1      5663322\n",
       "2      4394694\n",
       "3      3101833\n",
       "4      2548308\n",
       "6      2250020\n",
       "9      1997258\n",
       "10     1868757\n",
       "13     1450616\n",
       "14     1421455\n",
       "Name: Population, dtype: int64"
      ]
     },
     "execution_count": 371,
     "metadata": {},
     "output_type": "execute_result"
    }
   ],
   "source": [
    "dist_centers"
   ]
  },
  {
   "cell_type": "code",
   "execution_count": 372,
   "id": "799a0afa",
   "metadata": {},
   "outputs": [],
   "source": [
    "maras = np.array(distances[distances[\"Name\"] == \"Kahramanmaraş\"].fillna(0)[affected_cities].values.tolist())"
   ]
  },
  {
   "cell_type": "code",
   "execution_count": 373,
   "id": "8621950d",
   "metadata": {},
   "outputs": [],
   "source": [
    "maras = np.sort(maras)"
   ]
  },
  {
   "cell_type": "code",
   "execution_count": 374,
   "id": "91e0fd00",
   "metadata": {},
   "outputs": [
    {
     "name": "stdout",
     "output_type": "stream",
     "text": [
      "[[  0.  78. 105. 141. 162. 176. 197. 217. 222. 319. 368.]]\n"
     ]
    }
   ],
   "source": [
    "print(maras)"
   ]
  },
  {
   "cell_type": "code",
   "execution_count": 375,
   "id": "430a1ea8",
   "metadata": {},
   "outputs": [],
   "source": [
    "demands= [1000 - maras[i] for i in range(len(maras))]"
   ]
  },
  {
   "cell_type": "code",
   "execution_count": 376,
   "id": "2a531d07",
   "metadata": {},
   "outputs": [
    {
     "data": {
      "text/plain": [
       "[array([1000.,  922.,  895.,  859.,  838.,  824.,  803.,  783.,  778.,\n",
       "         681.,  632.])]"
      ]
     },
     "execution_count": 376,
     "metadata": {},
     "output_type": "execute_result"
    }
   ],
   "source": [
    "demands"
   ]
  },
  {
   "cell_type": "code",
   "execution_count": 377,
   "id": "54046291",
   "metadata": {},
   "outputs": [
    {
     "data": {
      "text/html": [
       "<div>\n",
       "<style scoped>\n",
       "    .dataframe tbody tr th:only-of-type {\n",
       "        vertical-align: middle;\n",
       "    }\n",
       "\n",
       "    .dataframe tbody tr th {\n",
       "        vertical-align: top;\n",
       "    }\n",
       "\n",
       "    .dataframe thead th {\n",
       "        text-align: right;\n",
       "    }\n",
       "</style>\n",
       "<table border=\"1\" class=\"dataframe\">\n",
       "  <thead>\n",
       "    <tr style=\"text-align: right;\">\n",
       "      <th></th>\n",
       "      <th>Adana</th>\n",
       "      <th>Şanlıurfa</th>\n",
       "      <th>Gaziantep</th>\n",
       "      <th>Diyarbakır</th>\n",
       "      <th>Hatay</th>\n",
       "      <th>Kahramanmaraş</th>\n",
       "      <th>Malatya</th>\n",
       "      <th>Adıyaman</th>\n",
       "      <th>Elazığ</th>\n",
       "      <th>Osmaniye</th>\n",
       "      <th>Kilis</th>\n",
       "    </tr>\n",
       "  </thead>\n",
       "  <tbody>\n",
       "    <tr>\n",
       "      <th>5</th>\n",
       "      <td>492.0</td>\n",
       "      <td>786.0</td>\n",
       "      <td>647.0</td>\n",
       "      <td>898.0</td>\n",
       "      <td>688.0</td>\n",
       "      <td>572.0</td>\n",
       "      <td>652.0</td>\n",
       "      <td>732.0</td>\n",
       "      <td>749.0</td>\n",
       "      <td>581.0</td>\n",
       "      <td>711.0</td>\n",
       "    </tr>\n",
       "  </tbody>\n",
       "</table>\n",
       "</div>"
      ],
      "text/plain": [
       "   Adana Şanlıurfa Gaziantep Diyarbakır  Hatay Kahramanmaraş Malatya Adıyaman  \\\n",
       "5  492.0     786.0     647.0      898.0  688.0         572.0   652.0    732.0   \n",
       "\n",
       "  Elazığ Osmaniye  Kilis  \n",
       "5  749.0    581.0  711.0  "
      ]
     },
     "execution_count": 377,
     "metadata": {},
     "output_type": "execute_result"
    }
   ],
   "source": [
    "distance_df.head(1)"
   ]
  },
  {
   "cell_type": "code",
   "execution_count": 378,
   "id": "a5f9100a",
   "metadata": {},
   "outputs": [],
   "source": [
    "distance_matrix = np.array(distance_df)"
   ]
  },
  {
   "cell_type": "code",
   "execution_count": 379,
   "id": "f99e5ef8",
   "metadata": {},
   "outputs": [
    {
     "data": {
      "text/plain": [
       "array([[492.0, 786.0, 647.0, 898.0, 688.0, 572.0, 652.0, 732.0, 749.0,\n",
       "        581.0, 711.0],\n",
       "       [547.0, 902.0, 763.0, 1084.0, 743.0, 744.0, 953.0, 884.0, 1051.0,\n",
       "        636.0, 798.0],\n",
       "       [856.0, 1158.0, 1020.0, 1270.0, 1052.0, 944.0, 1024.0, 1104.0,\n",
       "        1121.0, 945.0, 1083.0],\n",
       "       [70.0, 424.0, 286.0, 606.0, 265.0, 267.0, 466.0, 407.0, 564.0,\n",
       "        159.0, 321.0],\n",
       "       [951.0, 1237.0, 1098.0, 1349.0, 1147.0, 1023.0, 1103.0, 1183.0,\n",
       "        1200.0, 1040.0, 1162.0],\n",
       "       [907.0, 1261.0, 1123.0, 1436.0, 1102.0, 1104.0, 1190.0, 1244.0,\n",
       "        1287.0, 995.0, 1158.0],\n",
       "       [335.0, 468.0, 330.0, 581.0, 428.0, 255.0, 335.0, 414.0, 432.0,\n",
       "        356.0, 393.0],\n",
       "       [840.0, 1127.0, 988.0, 1239.0, 1036.0, 913.0, 993.0, 1072.0,\n",
       "        1090.0, 929.0, 1051.0],\n",
       "       [357.0, 712.0, 573.0, 887.0, 553.0, 555.0, 641.0, 695.0, 738.0,\n",
       "        446.0, 609.0],\n",
       "       [886.0, 1240.0, 1102.0, 1415.0, 1081.0, 1083.0, 1169.0, 1223.0,\n",
       "        1266.0, 974.0, 1137.0]], dtype=object)"
      ]
     },
     "execution_count": 379,
     "metadata": {},
     "output_type": "execute_result"
    }
   ],
   "source": [
    "distance_matrix"
   ]
  },
  {
   "cell_type": "code",
   "execution_count": 380,
   "id": "a34f2961",
   "metadata": {},
   "outputs": [],
   "source": [
    "coefs_list = [int(i)/10 for i in range(10,0,-1)]"
   ]
  },
  {
   "cell_type": "code",
   "execution_count": 381,
   "id": "9aaaf423",
   "metadata": {},
   "outputs": [
    {
     "name": "stdout",
     "output_type": "stream",
     "text": [
      "[1.0, 0.9, 0.8, 0.7, 0.6, 0.5, 0.4, 0.3, 0.2, 0.1]\n"
     ]
    }
   ],
   "source": [
    "print(coefs_list)"
   ]
  },
  {
   "cell_type": "code",
   "execution_count": 382,
   "id": "3416ca9f",
   "metadata": {},
   "outputs": [],
   "source": [
    "dist_centers = dist_centers.values.tolist()"
   ]
  },
  {
   "cell_type": "code",
   "execution_count": 383,
   "id": "41594d2e",
   "metadata": {},
   "outputs": [
    {
     "data": {
      "text/plain": [
       "[15462452,\n",
       " 5663322,\n",
       " 4394694,\n",
       " 3101833,\n",
       " 2548308,\n",
       " 2250020,\n",
       " 1997258,\n",
       " 1868757,\n",
       " 1450616,\n",
       " 1421455]"
      ]
     },
     "execution_count": 383,
     "metadata": {},
     "output_type": "execute_result"
    }
   ],
   "source": [
    "dist_centers"
   ]
  },
  {
   "cell_type": "code",
   "execution_count": 384,
   "id": "3e237e2e",
   "metadata": {},
   "outputs": [],
   "source": [
    "supply = [dist_centers[i]/10**4 for i in range(len(dist_centers))]"
   ]
  },
  {
   "cell_type": "code",
   "execution_count": 385,
   "id": "7ccbe92c",
   "metadata": {},
   "outputs": [
    {
     "data": {
      "text/plain": [
       "[1546.2452,\n",
       " 566.3322,\n",
       " 439.4694,\n",
       " 310.1833,\n",
       " 254.8308,\n",
       " 225.002,\n",
       " 199.7258,\n",
       " 186.8757,\n",
       " 145.0616,\n",
       " 142.1455]"
      ]
     },
     "execution_count": 385,
     "metadata": {},
     "output_type": "execute_result"
    }
   ],
   "source": [
    "supply"
   ]
  },
  {
   "cell_type": "code",
   "execution_count": 386,
   "id": "3bdde2ea",
   "metadata": {},
   "outputs": [],
   "source": [
    "cost = distance_matrix"
   ]
  },
  {
   "cell_type": "code",
   "execution_count": 387,
   "id": "766aa17a",
   "metadata": {},
   "outputs": [
    {
     "data": {
      "text/plain": [
       "array([[492.0, 786.0, 647.0, 898.0, 688.0, 572.0, 652.0, 732.0, 749.0,\n",
       "        581.0, 711.0],\n",
       "       [547.0, 902.0, 763.0, 1084.0, 743.0, 744.0, 953.0, 884.0, 1051.0,\n",
       "        636.0, 798.0],\n",
       "       [856.0, 1158.0, 1020.0, 1270.0, 1052.0, 944.0, 1024.0, 1104.0,\n",
       "        1121.0, 945.0, 1083.0],\n",
       "       [70.0, 424.0, 286.0, 606.0, 265.0, 267.0, 466.0, 407.0, 564.0,\n",
       "        159.0, 321.0],\n",
       "       [951.0, 1237.0, 1098.0, 1349.0, 1147.0, 1023.0, 1103.0, 1183.0,\n",
       "        1200.0, 1040.0, 1162.0],\n",
       "       [907.0, 1261.0, 1123.0, 1436.0, 1102.0, 1104.0, 1190.0, 1244.0,\n",
       "        1287.0, 995.0, 1158.0],\n",
       "       [335.0, 468.0, 330.0, 581.0, 428.0, 255.0, 335.0, 414.0, 432.0,\n",
       "        356.0, 393.0],\n",
       "       [840.0, 1127.0, 988.0, 1239.0, 1036.0, 913.0, 993.0, 1072.0,\n",
       "        1090.0, 929.0, 1051.0],\n",
       "       [357.0, 712.0, 573.0, 887.0, 553.0, 555.0, 641.0, 695.0, 738.0,\n",
       "        446.0, 609.0],\n",
       "       [886.0, 1240.0, 1102.0, 1415.0, 1081.0, 1083.0, 1169.0, 1223.0,\n",
       "        1266.0, 974.0, 1137.0]], dtype=object)"
      ]
     },
     "execution_count": 387,
     "metadata": {},
     "output_type": "execute_result"
    }
   ],
   "source": [
    "cost"
   ]
  },
  {
   "cell_type": "code",
   "execution_count": 388,
   "id": "3d0d3042",
   "metadata": {},
   "outputs": [
    {
     "name": "stdout",
     "output_type": "stream",
     "text": [
      "[[1546.2452    0.        0.        0.        0.        0.        0.\n",
      "     0.        0.        0.        0.    ]\n",
      " [ 566.3322    0.        0.        0.        0.        0.        0.\n",
      "     0.        0.        0.        0.    ]\n",
      " [ 439.4694    0.        0.        0.        0.        0.        0.\n",
      "     0.        0.        0.        0.    ]\n",
      " [ 310.1833    0.        0.        0.        0.        0.        0.\n",
      "     0.        0.        0.        0.    ]\n",
      " [ 254.8308    0.        0.        0.        0.        0.        0.\n",
      "     0.        0.        0.        0.    ]\n",
      " [ 217.002     0.        0.        0.        0.        0.        0.\n",
      "     0.        0.        8.        0.    ]\n",
      " [   0.        8.        3.        7.        8.      147.7258    7.\n",
      "     8.        3.        0.        8.    ]\n",
      " [ 186.8757    0.        0.        0.        0.        0.        0.\n",
      "     0.        0.        0.        0.    ]\n",
      " [ 145.0616    0.        0.        0.        0.        0.        0.\n",
      "     0.        0.        0.        0.    ]\n",
      " [ 142.1455    0.        0.        0.        0.        0.        0.\n",
      "     0.        0.        0.        0.    ]]\n"
     ]
    },
    {
     "name": "stderr",
     "output_type": "stream",
     "text": [
      "C:\\Users\\Hp\\anaconda3\\lib\\site-packages\\pulp\\pulp.py:1352: UserWarning: Spaces are not permitted in the name. Converted to '_'\n",
      "  warnings.warn(\"Spaces are not permitted in the name. Converted to '_'\")\n"
     ]
    }
   ],
   "source": [
    "from pulp import *\n",
    "\n",
    "# Create a linear programming problem\n",
    "prob = LpProblem(\"Resource Allocation\", LpMinimize)\n",
    "\n",
    "# Define the decision variables\n",
    "supply_cities = range(10)\n",
    "demand_cities = range(11)\n",
    "x = LpVariable.dicts(\"Transfer\", (supply_cities, demand_cities), lowBound=0)\n",
    "\n",
    "# Define the objective function\n",
    "prob += lpSum(x[i][j] * cost[i][j] for i in supply_cities for j in demand_cities)\n",
    "\n",
    "# Define the supply constraints\n",
    "for i in supply_cities:\n",
    "    prob += lpSum(x[i][j] for j in demand_cities) == supply[i]\n",
    "\n",
    "# Define the demand constraints\n",
    "for j in demand_cities:\n",
    "    prob += lpSum(x[i][j] for i in supply_cities) >= demand[j]\n",
    "\n",
    "\n",
    "\n",
    "# Solve the linear programming problem\n",
    "prob.solve()\n",
    "# Create a matrix to store the optimal solution\n",
    "transfer_matrix = np.array([[x[i][j].varValue for j in demand_cities] for i in supply_cities])\n",
    "print(transfer_matrix)\n",
    "# # Print the optimal solution\n",
    "# print(\"Optimal Solution:\")\n",
    "# for i in supply_cities:\n",
    "#     for j in demand_cities:\n",
    "#         print(f\"Transfer from supply {i} to demand {j}: {x[i][j].varValue}\")"
   ]
  },
  {
   "cell_type": "code",
   "execution_count": 389,
   "id": "318b3fb8",
   "metadata": {},
   "outputs": [],
   "source": [
    "# from pulp import *\n",
    "\n",
    "# # Create a linear programming problem\n",
    "# prob = LpProblem(\"Resource Allocation\", LpMinimize)\n",
    "\n",
    "# # Define the decision variables\n",
    "# supply_cities = range(10)\n",
    "# demand_cities = range(11)\n",
    "# x = LpVariable.dicts(\"Transfer\", (supply_cities, demand_cities), lowBound=0)\n",
    "\n",
    "# # Define the cost, supply, and demand\n",
    "# cost = np.random.rand(10, 11)  # Placeholder values for cost\n",
    "# supply = np.random.randint(1, 10, size=10)  # Placeholder values for supply\n",
    "# demand = np.random.randint(1, 10, size=11)  # Placeholder values for demand\n",
    "\n",
    "# # Define the objective function\n",
    "# prob += lpSum(x[i][j] * cost[i][j] for i in supply_cities for j in demand_cities)\n",
    "\n",
    "# # Define the supply constraints\n",
    "# for i in supply_cities:\n",
    "#     prob += lpSum(x[i][j] for j in demand_cities) == supply[i]\n",
    "\n",
    "# # Define the demand constraints\n",
    "# for j in demand_cities:\n",
    "#     prob += lpSum(x[i][j] for i in supply_cities) >= demand[j]\n",
    "\n",
    "\n",
    "\n",
    "# # Solve the linear programming problem\n",
    "# prob.solve()\n",
    "\n",
    "# # Create a matrix to store the optimal solution\n",
    "# transfer_matrix = np.array([[x[i][j].varValue for j in demand_cities] for i in supply_cities])\n",
    "# print(transfer_matrix)\n"
   ]
  }
 ],
 "metadata": {
  "kernelspec": {
   "display_name": "Python 3 (ipykernel)",
   "language": "python",
   "name": "python3"
  },
  "language_info": {
   "codemirror_mode": {
    "name": "ipython",
    "version": 3
   },
   "file_extension": ".py",
   "mimetype": "text/x-python",
   "name": "python",
   "nbconvert_exporter": "python",
   "pygments_lexer": "ipython3",
   "version": "3.9.12"
  }
 },
 "nbformat": 4,
 "nbformat_minor": 5
}
