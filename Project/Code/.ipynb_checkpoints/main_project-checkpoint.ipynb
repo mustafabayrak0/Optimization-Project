{
 "cells": [
  {
   "cell_type": "markdown",
   "metadata": {},
   "source": [
    "Import necessary libraries"
   ]
  },
  {
   "cell_type": "code",
   "execution_count": 1,
   "metadata": {},
   "outputs": [],
   "source": [
    "import pandas as pd"
   ]
  },
  {
   "cell_type": "code",
   "execution_count": 3,
   "metadata": {},
   "outputs": [],
   "source": [
    "df = pd.read_excel(\"../Datasets/cities.xlsx\")"
   ]
  },
  {
   "cell_type": "code",
   "execution_count": 8,
   "metadata": {},
   "outputs": [
    {
     "data": {
      "text/html": [
       "<div>\n",
       "<style scoped>\n",
       "    .dataframe tbody tr th:only-of-type {\n",
       "        vertical-align: middle;\n",
       "    }\n",
       "\n",
       "    .dataframe tbody tr th {\n",
       "        vertical-align: top;\n",
       "    }\n",
       "\n",
       "    .dataframe thead th {\n",
       "        text-align: right;\n",
       "    }\n",
       "</style>\n",
       "<table border=\"1\" class=\"dataframe\">\n",
       "  <thead>\n",
       "    <tr style=\"text-align: right;\">\n",
       "      <th></th>\n",
       "      <th>Name</th>\n",
       "      <th>Affected</th>\n",
       "      <th>Dist</th>\n",
       "      <th>Population</th>\n",
       "    </tr>\n",
       "  </thead>\n",
       "  <tbody>\n",
       "    <tr>\n",
       "      <th>0</th>\n",
       "      <td>İstanbul</td>\n",
       "      <td>0</td>\n",
       "      <td>1</td>\n",
       "      <td>15462452</td>\n",
       "    </tr>\n",
       "    <tr>\n",
       "      <th>1</th>\n",
       "      <td>Ankara</td>\n",
       "      <td>0</td>\n",
       "      <td>1</td>\n",
       "      <td>5663322</td>\n",
       "    </tr>\n",
       "    <tr>\n",
       "      <th>2</th>\n",
       "      <td>İzmir</td>\n",
       "      <td>0</td>\n",
       "      <td>1</td>\n",
       "      <td>4394694</td>\n",
       "    </tr>\n",
       "    <tr>\n",
       "      <th>3</th>\n",
       "      <td>Bursa</td>\n",
       "      <td>0</td>\n",
       "      <td>1</td>\n",
       "      <td>3101833</td>\n",
       "    </tr>\n",
       "    <tr>\n",
       "      <th>4</th>\n",
       "      <td>Antalya</td>\n",
       "      <td>0</td>\n",
       "      <td>1</td>\n",
       "      <td>2548308</td>\n",
       "    </tr>\n",
       "    <tr>\n",
       "      <th>5</th>\n",
       "      <td>Adana</td>\n",
       "      <td>1</td>\n",
       "      <td>0</td>\n",
       "      <td>2258718</td>\n",
       "    </tr>\n",
       "    <tr>\n",
       "      <th>6</th>\n",
       "      <td>Konya</td>\n",
       "      <td>0</td>\n",
       "      <td>1</td>\n",
       "      <td>2250020</td>\n",
       "    </tr>\n",
       "    <tr>\n",
       "      <th>7</th>\n",
       "      <td>Şanlıurfa</td>\n",
       "      <td>1</td>\n",
       "      <td>0</td>\n",
       "      <td>2115256</td>\n",
       "    </tr>\n",
       "    <tr>\n",
       "      <th>8</th>\n",
       "      <td>Gaziantep</td>\n",
       "      <td>1</td>\n",
       "      <td>0</td>\n",
       "      <td>2101157</td>\n",
       "    </tr>\n",
       "    <tr>\n",
       "      <th>9</th>\n",
       "      <td>Kocaeli</td>\n",
       "      <td>0</td>\n",
       "      <td>1</td>\n",
       "      <td>1997258</td>\n",
       "    </tr>\n",
       "    <tr>\n",
       "      <th>10</th>\n",
       "      <td>Mersin</td>\n",
       "      <td>0</td>\n",
       "      <td>1</td>\n",
       "      <td>1868757</td>\n",
       "    </tr>\n",
       "    <tr>\n",
       "      <th>11</th>\n",
       "      <td>Diyarbakır</td>\n",
       "      <td>1</td>\n",
       "      <td>0</td>\n",
       "      <td>1783431</td>\n",
       "    </tr>\n",
       "    <tr>\n",
       "      <th>12</th>\n",
       "      <td>Hatay</td>\n",
       "      <td>1</td>\n",
       "      <td>0</td>\n",
       "      <td>1659320</td>\n",
       "    </tr>\n",
       "    <tr>\n",
       "      <th>13</th>\n",
       "      <td>Manisa</td>\n",
       "      <td>0</td>\n",
       "      <td>1</td>\n",
       "      <td>1450616</td>\n",
       "    </tr>\n",
       "    <tr>\n",
       "      <th>14</th>\n",
       "      <td>Kayseri</td>\n",
       "      <td>0</td>\n",
       "      <td>1</td>\n",
       "      <td>1421455</td>\n",
       "    </tr>\n",
       "  </tbody>\n",
       "</table>\n",
       "</div>"
      ],
      "text/plain": [
       "          Name  Affected  Dist  Population\n",
       "0     İstanbul         0     1    15462452\n",
       "1       Ankara         0     1     5663322\n",
       "2        İzmir         0     1     4394694\n",
       "3        Bursa         0     1     3101833\n",
       "4      Antalya         0     1     2548308\n",
       "5        Adana         1     0     2258718\n",
       "6        Konya         0     1     2250020\n",
       "7    Şanlıurfa         1     0     2115256\n",
       "8    Gaziantep         1     0     2101157\n",
       "9      Kocaeli         0     1     1997258\n",
       "10      Mersin         0     1     1868757\n",
       "11  Diyarbakır         1     0     1783431\n",
       "12       Hatay         1     0     1659320\n",
       "13      Manisa         0     1     1450616\n",
       "14     Kayseri         0     1     1421455"
      ]
     },
     "execution_count": 8,
     "metadata": {},
     "output_type": "execute_result"
    }
   ],
   "source": [
    "df.head(15)"
   ]
  },
  {
   "cell_type": "code",
   "execution_count": 19,
   "metadata": {},
   "outputs": [],
   "source": [
    "dist_centers = df[df[\"Dist\"]==1][\"Name\"].to_list()"
   ]
  },
  {
   "cell_type": "code",
   "execution_count": 20,
   "metadata": {},
   "outputs": [
    {
     "data": {
      "text/plain": [
       "['İstanbul',\n",
       " 'Ankara',\n",
       " 'İzmir',\n",
       " 'Bursa',\n",
       " 'Antalya',\n",
       " 'Konya',\n",
       " 'Kocaeli',\n",
       " 'Mersin',\n",
       " 'Manisa',\n",
       " 'Kayseri']"
      ]
     },
     "execution_count": 20,
     "metadata": {},
     "output_type": "execute_result"
    }
   ],
   "source": [
    "dist_centers"
   ]
  },
  {
   "cell_type": "code",
   "execution_count": 48,
   "metadata": {},
   "outputs": [],
   "source": [
    "coefs_list = [int(i)/10 for i in range(10,0,-1)]"
   ]
  },
  {
   "cell_type": "code",
   "execution_count": 49,
   "metadata": {},
   "outputs": [
    {
     "data": {
      "text/plain": [
       "[1.0, 0.9, 0.8, 0.7, 0.6, 0.5, 0.4, 0.3, 0.2, 0.1]"
      ]
     },
     "execution_count": 49,
     "metadata": {},
     "output_type": "execute_result"
    }
   ],
   "source": [
    "coefs_list"
   ]
  },
  {
   "cell_type": "code",
   "execution_count": 50,
   "metadata": {},
   "outputs": [],
   "source": [
    "truck = 500\n",
    "helicopter = 10"
   ]
  },
  {
   "cell_type": "code",
   "execution_count": null,
   "metadata": {},
   "outputs": [],
   "source": []
  },
  {
   "cell_type": "code",
   "execution_count": 35,
   "metadata": {},
   "outputs": [],
   "source": [
    "def objective(distance,capacity,vehicle_speed_coef):\n",
    "    time = distance / (capacity * vehicle_speed_coef)"
   ]
  },
  {
   "cell_type": "markdown",
   "metadata": {},
   "source": [
    "Objective Function\n",
    "Minimize: Σ(c_i * x_i) -- This part represents the cost\n",
    "\n",
    "Subject to: Σ(t_i * x_i) ≤ T_max --\n",
    "\n",
    "Total erzak <br>\n",
    "araçların kapasitesi: helikopter ve kamyon<br>\n",
    "helikopter sayımız ve kamyon sayımız belli<br>\n",
    "İstanbuldan çıkan bir kamyon<br>\n",
    "Ankara 1000 erzak 50 kamyon 10 helikopter<br>\n",
    "Bursa 1000 erzak 50 kamyon 10 helikopter<br>\n",
    "Total erzak ihtiyaçtan fazla tanımlanacak"
   ]
  },
  {
   "cell_type": "code",
   "execution_count": null,
   "metadata": {},
   "outputs": [],
   "source": [
    "def create_population(size, bounds):\n",
    "    population = []\n",
    "    for _ in range(size):\n",
    "        individual = [random.uniform(bounds[0], bounds[1]), random.uniform(bounds[0], bounds[1])]\n",
    "        population.append(individual)\n",
    "    return population\n",
    "\n",
    "def fitness_function(individual, f):\n",
    "    x, y = individual\n",
    "    return f(x, y)\n",
    "\n",
    "def selection(population, num_parents):\n",
    "    parents = []\n",
    "    for _ in range(num_parents):\n",
    "        selected = random.choice(population)\n",
    "        parents.append(selected)\n",
    "    return parents\n",
    "\n",
    "def crossover(parents, num_offspring):\n",
    "    offspring = []\n",
    "    for _ in range(num_offspring):\n",
    "        parent1, parent2 = random.sample(parents, 2)\n",
    "        child = [parent1[0], parent2[1]]  \n",
    "        offspring.append(child)\n",
    "    return offspring\n",
    "\n",
    "def mutation(offspring, mutation_rate, bounds):\n",
    "    for child in offspring:\n",
    "        if random.random() < mutation_rate:\n",
    "            child[0] = random.uniform(bounds[0], bounds[1])  \n",
    "            child[1] = random.uniform(bounds[0], bounds[1])  \n",
    "\n",
    "def genetic_algorithm(bounds, population_size, num_generations, num_parents, num_offspring, mutation_rate, f):\n",
    "    population = create_population(population_size, bounds)\n",
    "\n",
    "    for _ in range(num_generations):\n",
    "        parents = selection(population, num_parents)\n",
    "        offspring = crossover(parents, num_offspring)\n",
    "        mutation(offspring, mutation_rate, bounds)\n",
    "\n",
    "        population = parents + offspring\n",
    "\n",
    "        fitness_values = [fitness_function(individual, f) for individual in population]\n",
    "\n",
    "        best_fitness = min(fitness_values)\n",
    "        best_individual = population[fitness_values.index(best_fitness)]\n",
    "\n",
    "    return best_individual, population\n",
    "\n",
    "bounds = (-1.0, 1.0)\n",
    "population_size = 100\n",
    "num_generations = 50\n",
    "num_parents = 50\n",
    "num_offspring = 50\n",
    "mutation_rate = 0.1"
   ]
  },
  {
   "cell_type": "code",
   "execution_count": null,
   "metadata": {},
   "outputs": [],
   "source": []
  },
  {
   "cell_type": "code",
   "execution_count": null,
   "metadata": {},
   "outputs": [],
   "source": [
    "def simulated_annealing(function, bounds, n_iterations, initial_temp, cooling_rate):\n",
    "    # Initialize a solution randomly within bounds\n",
    "    current_sol = np.random.uniform(low=bounds[0], high=bounds[1], size=2)\n",
    "    # Find the cost of the initalized cost\n",
    "    current_cost = function(*current_sol)\n",
    "\n",
    "    # At the beginning, initialized solution is best solution, and its cost is best cost\n",
    "    best_sol, best_cost = current_sol, current_cost\n",
    "    # Store best solutions\n",
    "    trajectory = [best_sol]\n",
    "\n",
    "    # Perform simulated annealing\n",
    "    for i in range(n_iterations):\n",
    "        # Generate a candidate solution by adding Gaussian perturbation to the current solution\n",
    "        candidate_sol = current_sol + np.random.randn(2)\n",
    "        # Stay withing bounds\n",
    "        candidate_sol = np.clip(candidate_sol, bounds[0], bounds[1])\n",
    "        # Cost of the candidate solution\n",
    "        candidate_cost = function(*candidate_sol)\n",
    "\n",
    "        # Candidate solution becomes current solution if it has a lower cost \n",
    "        # or with a certain probability based on temperature\n",
    "        if candidate_cost < current_cost or np.random.rand() < np.exp((current_cost - candidate_cost) / initial_temp):\n",
    "            current_sol, current_cost = candidate_sol, candidate_cost\n",
    "\n",
    "            # Update the best solution if the candidate has a lower cost\n",
    "            if candidate_cost < best_cost:\n",
    "                best_sol, best_cost = candidate_sol, candidate_cost\n",
    "                # Append current best solution to trajectory list\n",
    "                trajectory.append(best_sol)\n",
    "\n",
    "        # Cool down the temperature\n",
    "        initial_temp *= cooling_rate\n",
    "#     Return best solution, best cost, and array that we store best solutions\n",
    "    return best_sol, best_cost, trajectory"
   ]
  }
 ],
 "metadata": {
  "kernelspec": {
   "display_name": "Python 3 (ipykernel)",
   "language": "python",
   "name": "python3"
  },
  "language_info": {
   "codemirror_mode": {
    "name": "ipython",
    "version": 3
   },
   "file_extension": ".py",
   "mimetype": "text/x-python",
   "name": "python",
   "nbconvert_exporter": "python",
   "pygments_lexer": "ipython3",
   "version": "3.9.12"
  }
 },
 "nbformat": 4,
 "nbformat_minor": 2
}
